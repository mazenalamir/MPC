{
 "cells": [
  {
   "cell_type": "markdown",
   "metadata": {
    "slideshow": {
     "slide_type": "slide"
    }
   },
   "source": [
    "# Model Predictive Control (6) - NLP vs QP "
   ]
  },
  {
   "cell_type": "markdown",
   "metadata": {
    "slideshow": {
     "slide_type": "slide"
    }
   },
   "source": [
    "## Table of contents<a class=\"anchor\" id=\"toc\"></a> \n",
    "\n",
    "### [NLP vs QP](#ThisNotebook)\n",
    "[Quadratic Programming Problems](#QP) / [The CVXPY QP solver](#cvxpy) /[Generating the problem](#generate) / [Solving the QP problem using cvxpy](#solvingBycvxpy) / [Solving the problem using general purpose solver IPOPT via Casadi](#solvingByCasadi)\n"
   ]
  },
  {
   "cell_type": "code",
   "execution_count": 1,
   "metadata": {
    "slideshow": {
     "slide_type": "skip"
    }
   },
   "outputs": [],
   "source": [
    "from IPython.display import Image, IFrame\n",
    "import ipywidgets as wg\n",
    "import numpy as np\n",
    "import matplotlib.pyplot as plt\n",
    "import time\n",
    "from casadi import MX, vertcat, Function, nlpsol, diag\n",
    "import matplotlib.pyplot as plt\n",
    "import cvxpy as cp\n",
    "\n",
    "\n",
    "files_root = \"https://www.mazenalamir.fr/MPC/\"\n",
    "\n",
    "width=800"
   ]
  },
  {
   "cell_type": "markdown",
   "metadata": {
    "slideshow": {
     "slide_type": "slide"
    }
   },
   "source": [
    "## This Notebook<a class=\"anchor\" id=\"ThisNotebook\"></a>"
   ]
  },
  {
   "cell_type": "markdown",
   "metadata": {
    "slideshow": {
     "slide_type": "-"
    }
   },
   "source": [
    "## Quadratic Programming Problems<a class=\"anchor\" id=\"QP\"></a>\n",
    "\n",
    "In the previous notebook, it has been shown how to design a General Nonlinear MPC control for any system that is given by general set of nonlinear ordinary differential equations and using a general expression of the constraints function. \n",
    "\n",
    "It is a fact however that in amny situation, people work with a **linearized model** around some operating point and would like to handle **constraints that are affine in the state and the control vectors**. Moreover, it is very often that the cost function is expressed via a **quandratic form of the state and the control trajectories**. "
   ]
  },
  {
   "cell_type": "markdown",
   "metadata": {
    "slideshow": {
     "slide_type": "slide"
    }
   },
   "source": [
    "More precisely, the system is given by (in discrete-time form):\n",
    "\n",
    "$$\n",
    "x(k+1)=Ax(k)+Bu(k)\n",
    "$$\n",
    "\n",
    "The cost function is of the form:\n",
    "\n",
    "$$\n",
    "J(\\mathbf u\\ \\vert x(k)) := \\|x(k+N)-x_d\\|_{Q_f}^2+\\sum_{k=0}^{N-1}\\|x(k+1)-x_d\\|_Q^2+\\|u(k)-u_d\\|_R^2\n",
    "$$\n",
    "\n",
    "While the constraints are given by:\n",
    "\n",
    "$$\n",
    "C_cx(k+i+1)+D_c u(k+i)\\le \\ell_c\\qquad \\forall i\\in\\{0,\\dots,N-1\\}\n",
    "$$"
   ]
  },
  {
   "cell_type": "markdown",
   "metadata": {
    "slideshow": {
     "slide_type": "slide"
    }
   },
   "source": [
    "It can be proved (see later) that in this case, the optimal control problem that is to be repetitively solved to implement the MPC control takes the form **This is called a quadratic programming problem (QP)**:\n",
    "\n",
    "$$\n",
    "\\min_z \\Bigl[\\dfrac{1}{2}z^THz+h^Tz\\Bigr]\\quad \\text{under}\\quad A_{ineq}z\\le B_{ineq}\n",
    "$$\n",
    "\n",
    "Now obviously this last problem can be solved using the general purpose framework CasaDi already used in the previous notebook. However:\n",
    "\n",
    "> It is the purpose of this notebook to show that this is not a good idea since dedicated solver especially tailored to solve QPs are much more performant than general purpose NLP solver.  \n",
    "\n",
    "The current notebook is dedicated to show this simple fact through an illustrative example. \n",
    "\n",
    "The QP solver that is used here to show this fact is the **cvxpy** module and the **qp/qpoases option of CasaDi**.\n"
   ]
  },
  {
   "cell_type": "markdown",
   "metadata": {
    "slideshow": {
     "slide_type": "skip"
    }
   },
   "source": [
    "[back to toc](#toc)"
   ]
  },
  {
   "cell_type": "markdown",
   "metadata": {
    "slideshow": {
     "slide_type": "slide"
    }
   },
   "source": [
    "## The CVXPY solver<a class=\"anchor\" id=\"cvxpy\"></a>\n",
    "\n",
    "The following link explains how to use the cvxpy solver for a variety of problems such as:\n",
    "\n",
    "- Linear least squares \n",
    "- Linear programs (linear cost under linear constraints\n",
    "- Quadratic Programs \n",
    "- Mixed-integer Quadratic Programs\n",
    "- Portfolio optimization\n",
    "- and some other stuffs"
   ]
  },
  {
   "cell_type": "code",
   "execution_count": 2,
   "metadata": {
    "scrolled": true,
    "slideshow": {
     "slide_type": "slide"
    }
   },
   "outputs": [
    {
     "data": {
      "text/html": [
       "\n",
       "        <iframe\n",
       "            width=\"700\"\n",
       "            height=\"400\"\n",
       "            src=\"https://www.cvxpy.org/\"\n",
       "            frameborder=\"0\"\n",
       "            allowfullscreen\n",
       "        ></iframe>\n",
       "        "
      ],
      "text/plain": [
       "<IPython.lib.display.IFrame at 0x7febe835b490>"
      ]
     },
     "metadata": {},
     "output_type": "display_data"
    }
   ],
   "source": [
    "width=700\n",
    "casadi_site = \"https://www.cvxpy.org/\"\n",
    "display(IFrame(casadi_site, width=width, height=400))"
   ]
  },
  {
   "cell_type": "markdown",
   "metadata": {
    "slideshow": {
     "slide_type": "slide"
    }
   },
   "source": [
    "## Generating the problem<a class=\"anchor\" id=\"generate\"></a>\n",
    "\n",
    "The following function "
   ]
  },
  {
   "cell_type": "code",
   "execution_count": 3,
   "metadata": {
    "slideshow": {
     "slide_type": "-"
    }
   },
   "outputs": [],
   "source": [
    "# Random QP problem generator\n",
    "\n",
    "def generate_QP(n, nc, eps):\n",
    "    \n",
    "    V = np.random.rand(n,n)\n",
    "    Aineq = np.random.rand(nc,n)\n",
    "    Bineq = 0.01+np.random.rand(nc)\n",
    "    \n",
    "    H = np.matmul(V.T, V)+eps*np.eye(n)\n",
    "    h = 10 * V[0,:]\n",
    "    \n",
    "    return H, h, Aineq, Bineq\n",
    "    \n",
    "    \n",
    "n, nc, eps = 50, 170, 0.1    \n",
    "H, h, Aineq, Bineq = generate_QP(n,nc,eps)"
   ]
  },
  {
   "cell_type": "markdown",
   "metadata": {
    "slideshow": {
     "slide_type": "slide"
    }
   },
   "source": [
    "## Solving the problem By CVXPY <a class=\"anchor\" id=\"solvingBycvxpy\"></a>"
   ]
  },
  {
   "cell_type": "code",
   "execution_count": 4,
   "metadata": {
    "slideshow": {
     "slide_type": "-"
    }
   },
   "outputs": [
    {
     "name": "stdout",
     "output_type": "stream",
     "text": [
      "value at optimum = -29.46788012282316\n",
      "cpu for a single computation : 0.0035052990913391115\n",
      "Number of active constraints = 16\n"
     ]
    }
   ],
   "source": [
    "x = cp.Variable(n)\n",
    "prob = cp.Problem(cp.Minimize((1/2)*cp.quad_form(x, H) + h.T @ x),\n",
    "                 [Aineq @ x <= Bineq])\n",
    "\n",
    "\n",
    "Ntrials = 100\n",
    "t1 = time.time()\n",
    "for i in range(Ntrials):\n",
    "    prob.solve()\n",
    "t2 = time.time()\n",
    "cpu_qp = (t2-t1)/Ntrials\n",
    "print(f'value at optimum = {prob.value}')\n",
    "print(f'cpu for a single computation : {cpu_qp}')\n",
    "print(f'Number of active constraints = {np.sum(Aineq @ x.value - Bineq > 0)}')"
   ]
  },
  {
   "cell_type": "markdown",
   "metadata": {
    "slideshow": {
     "slide_type": "slide"
    }
   },
   "source": [
    "## Solving the problem By the NLP solver Casadi/Ipopt <a class=\"anchor\" id=\"solvingByCasadi\"></a>"
   ]
  },
  {
   "cell_type": "code",
   "execution_count": 5,
   "metadata": {
    "slideshow": {
     "slide_type": "slide"
    }
   },
   "outputs": [],
   "source": [
    "x_casadi = MX.sym('x', n)\n",
    "J = MX.sym('J', 1)\n",
    "J = 0\n",
    "g = []\n",
    "lbg = []\n",
    "ubg = []\n",
    "lbx = [-1e22] * n\n",
    "ubx = [+1e22] * n\n",
    "#--------------------------------------\n",
    "# Define the cost function \n",
    "#--------------------------------------\n",
    "linTerm = 0.0\n",
    "for i in range(n):\n",
    "    Hx = 0.0\n",
    "    linTerm += h[i] * x_casadi[i]\n",
    "    for j in range(n):\n",
    "        Hx += H[i,j] * x_casadi[j]        \n",
    "    J += 0.5 * Hx * x_casadi[i]\n",
    "J += linTerm\n",
    "#--------------------------------------\n",
    "# Define the inequality constraints\n",
    "#--------------------------------------\n",
    "for i in range(nc):\n",
    "    Aineqx = 0.0\n",
    "    for j in range(n):\n",
    "        Aineqx += Aineq[i,j] * x_casadi[j]\n",
    "    g += [Aineqx-Bineq[i]]\n",
    "    lbg += [-1e22]\n",
    "    ubg += [0.0]"
   ]
  },
  {
   "cell_type": "code",
   "execution_count": 6,
   "metadata": {
    "slideshow": {
     "slide_type": "slide"
    }
   },
   "outputs": [],
   "source": [
    "#--------------------------------------    \n",
    "# Declaring the problem \n",
    "#--------------------------------------\n",
    "prob = {'f':J, 'x':x_casadi, 'g':vertcat(*g)}\n",
    "\n",
    "#--------------------------------------\n",
    "# declaring the solver \n",
    "#--------------------------------------\n",
    "solver = nlpsol('solver', 'ipopt', prob, {'ipopt':{'max_iter':200}})    "
   ]
  },
  {
   "cell_type": "code",
   "execution_count": 7,
   "metadata": {
    "scrolled": true,
    "slideshow": {
     "slide_type": "slide"
    }
   },
   "outputs": [
    {
     "name": "stdout",
     "output_type": "stream",
     "text": [
      "\n",
      "******************************************************************************\n",
      "This program contains Ipopt, a library for large-scale nonlinear optimization.\n",
      " Ipopt is released as open source code under the Eclipse Public License (EPL).\n",
      "         For more information visit http://projects.coin-or.org/Ipopt\n",
      "******************************************************************************\n",
      "\n",
      "This is Ipopt version 3.12.3, running with linear solver mumps.\n",
      "NOTE: Other linear solvers might be more efficient (see Ipopt documentation).\n",
      "\n",
      "Number of nonzeros in equality constraint Jacobian...:        0\n",
      "Number of nonzeros in inequality constraint Jacobian.:     8500\n",
      "Number of nonzeros in Lagrangian Hessian.............:     1275\n",
      "\n",
      "Total number of variables............................:       50\n",
      "                     variables with only lower bounds:        0\n",
      "                variables with lower and upper bounds:        0\n",
      "                     variables with only upper bounds:        0\n",
      "Total number of equality constraints.................:        0\n",
      "Total number of inequality constraints...............:      170\n",
      "        inequality constraints with only lower bounds:        0\n",
      "   inequality constraints with lower and upper bounds:        0\n",
      "        inequality constraints with only upper bounds:      170\n",
      "\n",
      "iter    objective    inf_pr   inf_du lg(mu)  ||d||  lg(rg) alpha_du alpha_pr  ls\n",
      "   0  0.0000000e+00 0.00e+00 2.38e+00  -1.0 0.00e+00    -  0.00e+00 0.00e+00   0\n",
      "   1 -1.2060330e+01 0.00e+00 1.48e+00  -1.0 6.84e-01    -  4.01e-01 1.00e+00f  1\n",
      "   2 -2.2284417e+01 0.00e+00 6.38e-01  -1.0 1.19e+00    -  5.61e-01 1.00e+00f  1\n",
      "   3 -2.6144183e+01 0.00e+00 2.15e-01  -1.7 1.11e+00    -  5.32e-01 6.71e-01f  1\n",
      "   4 -2.8575289e+01 0.00e+00 1.48e-01  -1.7 1.13e+00    -  6.34e-01 9.01e-01f  1\n",
      "   5 -2.9089452e+01 0.00e+00 4.35e-02  -2.5 5.53e-01    -  7.64e-01 6.31e-01f  1\n",
      "   6 -2.9367824e+01 0.00e+00 5.64e-03  -2.5 3.59e-01    -  1.00e+00 9.67e-01f  1\n",
      "   7 -2.9448815e+01 0.00e+00 4.28e-03  -3.8 1.17e-01    -  9.47e-01 8.77e-01f  1\n",
      "   8 -2.9463178e+01 0.00e+00 1.50e-09  -3.8 5.47e-02    -  1.00e+00 1.00e+00f  1\n",
      "   9 -2.9467326e+01 0.00e+00 6.91e-04  -5.7 1.94e-02    -  9.70e-01 9.11e-01f  1\n",
      "iter    objective    inf_pr   inf_du lg(mu)  ||d||  lg(rg) alpha_du alpha_pr  ls\n",
      "  10 -2.9467791e+01 0.00e+00 2.30e-04  -5.7 8.80e-03    -  1.00e+00 9.70e-01f  1\n",
      "  11 -2.9467828e+01 0.00e+00 1.84e-11  -5.7 3.54e-03    -  1.00e+00 1.00e+00f  1\n",
      "  12 -2.9467877e+01 0.00e+00 1.30e-05  -8.6 1.70e-03    -  9.90e-01 9.83e-01f  1\n",
      "  13 -2.9467880e+01 0.00e+00 2.51e-14  -8.6 6.78e-04    -  1.00e+00 1.00e+00f  1\n",
      "  14 -2.9467880e+01 0.00e+00 2.51e-14  -8.6 1.43e-04    -  1.00e+00 1.00e+00h  1\n",
      "  15 -2.9467880e+01 0.00e+00 1.87e-14  -9.0 7.85e-06    -  1.00e+00 1.00e+00h  1\n",
      "\n",
      "Number of Iterations....: 15\n",
      "\n",
      "                                   (scaled)                 (unscaled)\n",
      "Objective...............:  -2.9467880221974376e+01   -2.9467880221974376e+01\n",
      "Dual infeasibility......:   1.8651746813702630e-14    1.8651746813702630e-14\n",
      "Constraint violation....:   0.0000000000000000e+00    0.0000000000000000e+00\n",
      "Complementarity.........:   9.6078661769862470e-10    9.6078661769862470e-10\n",
      "Overall NLP error.......:   9.6078661769862470e-10    9.6078661769862470e-10\n",
      "\n",
      "\n",
      "Number of objective function evaluations             = 16\n",
      "Number of objective gradient evaluations             = 16\n",
      "Number of equality constraint evaluations            = 0\n",
      "Number of inequality constraint evaluations          = 16\n",
      "Number of equality constraint Jacobian evaluations   = 0\n",
      "Number of inequality constraint Jacobian evaluations = 16\n",
      "Number of Lagrangian Hessian evaluations             = 15\n",
      "Total CPU secs in IPOPT (w/o function evaluations)   =      0.051\n",
      "Total CPU secs in NLP function evaluations           =      0.048\n",
      "\n",
      "EXIT: Optimal Solution Found.\n",
      "      solver  :   t_proc      (avg)   t_wall      (avg)    n_eval\n",
      "       nlp_f  |   3.71ms (232.00us)   3.72ms (232.45us)        16\n",
      "       nlp_g  |  11.57ms (723.12us)  11.61ms (725.51us)        16\n",
      "  nlp_grad_f  |   5.94ms (349.71us)   5.95ms (349.85us)        17\n",
      "  nlp_hess_l  |   9.79ms (652.80us)   9.85ms (656.92us)        15\n",
      "   nlp_jac_g  |  19.01ms (  1.12ms)  19.14ms (  1.13ms)        17\n",
      "       total  | 111.82ms (111.82ms) 111.31ms (111.31ms)         1\n",
      "This is Ipopt version 3.12.3, running with linear solver mumps.\n",
      "NOTE: Other linear solvers might be more efficient (see Ipopt documentation).\n",
      "\n",
      "Number of nonzeros in equality constraint Jacobian...:        0\n",
      "Number of nonzeros in inequality constraint Jacobian.:     8500\n",
      "Number of nonzeros in Lagrangian Hessian.............:     1275\n",
      "\n",
      "Total number of variables............................:       50\n",
      "                     variables with only lower bounds:        0\n",
      "                variables with lower and upper bounds:        0\n",
      "                     variables with only upper bounds:        0\n",
      "Total number of equality constraints.................:        0\n",
      "Total number of inequality constraints...............:      170\n",
      "        inequality constraints with only lower bounds:        0\n",
      "   inequality constraints with lower and upper bounds:        0\n",
      "        inequality constraints with only upper bounds:      170\n",
      "\n",
      "iter    objective    inf_pr   inf_du lg(mu)  ||d||  lg(rg) alpha_du alpha_pr  ls\n",
      "   0  0.0000000e+00 0.00e+00 2.38e+00  -1.0 0.00e+00    -  0.00e+00 0.00e+00   0\n",
      "   1 -1.2060330e+01 0.00e+00 1.48e+00  -1.0 6.84e-01    -  4.01e-01 1.00e+00f  1\n",
      "   2 -2.2284417e+01 0.00e+00 6.38e-01  -1.0 1.19e+00    -  5.61e-01 1.00e+00f  1\n",
      "   3 -2.6144183e+01 0.00e+00 2.15e-01  -1.7 1.11e+00    -  5.32e-01 6.71e-01f  1\n",
      "   4 -2.8575289e+01 0.00e+00 1.48e-01  -1.7 1.13e+00    -  6.34e-01 9.01e-01f  1\n",
      "   5 -2.9089452e+01 0.00e+00 4.35e-02  -2.5 5.53e-01    -  7.64e-01 6.31e-01f  1\n",
      "   6 -2.9367824e+01 0.00e+00 5.64e-03  -2.5 3.59e-01    -  1.00e+00 9.67e-01f  1\n",
      "   7 -2.9448815e+01 0.00e+00 4.28e-03  -3.8 1.17e-01    -  9.47e-01 8.77e-01f  1\n",
      "   8 -2.9463178e+01 0.00e+00 1.50e-09  -3.8 5.47e-02    -  1.00e+00 1.00e+00f  1\n",
      "   9 -2.9467326e+01 0.00e+00 6.91e-04  -5.7 1.94e-02    -  9.70e-01 9.11e-01f  1\n",
      "iter    objective    inf_pr   inf_du lg(mu)  ||d||  lg(rg) alpha_du alpha_pr  ls\n",
      "  10 -2.9467791e+01 0.00e+00 2.30e-04  -5.7 8.80e-03    -  1.00e+00 9.70e-01f  1\n",
      "  11 -2.9467828e+01 0.00e+00 1.84e-11  -5.7 3.54e-03    -  1.00e+00 1.00e+00f  1\n",
      "  12 -2.9467877e+01 0.00e+00 1.30e-05  -8.6 1.70e-03    -  9.90e-01 9.83e-01f  1\n",
      "  13 -2.9467880e+01 0.00e+00 2.51e-14  -8.6 6.78e-04    -  1.00e+00 1.00e+00f  1\n",
      "  14 -2.9467880e+01 0.00e+00 2.51e-14  -8.6 1.43e-04    -  1.00e+00 1.00e+00h  1\n",
      "  15 -2.9467880e+01 0.00e+00 1.87e-14  -9.0 7.85e-06    -  1.00e+00 1.00e+00h  1\n",
      "\n",
      "Number of Iterations....: 15\n",
      "\n",
      "                                   (scaled)                 (unscaled)\n",
      "Objective...............:  -2.9467880221974376e+01   -2.9467880221974376e+01\n",
      "Dual infeasibility......:   1.8651746813702630e-14    1.8651746813702630e-14\n",
      "Constraint violation....:   0.0000000000000000e+00    0.0000000000000000e+00\n",
      "Complementarity.........:   9.6078661769862470e-10    9.6078661769862470e-10\n",
      "Overall NLP error.......:   9.6078661769862470e-10    9.6078661769862470e-10\n",
      "\n",
      "\n",
      "Number of objective function evaluations             = 16\n",
      "Number of objective gradient evaluations             = 16\n",
      "Number of equality constraint evaluations            = 0\n",
      "Number of inequality constraint evaluations          = 16\n",
      "Number of equality constraint Jacobian evaluations   = 0\n",
      "Number of inequality constraint Jacobian evaluations = 16\n",
      "Number of Lagrangian Hessian evaluations             = 15\n",
      "Total CPU secs in IPOPT (w/o function evaluations)   =      0.048\n",
      "Total CPU secs in NLP function evaluations           =      0.046\n",
      "\n",
      "EXIT: Optimal Solution Found.\n",
      "      solver  :   t_proc      (avg)   t_wall      (avg)    n_eval\n",
      "       nlp_f  |   3.56ms (222.44us)   3.57ms (223.18us)        16\n",
      "       nlp_g  |  11.03ms (689.56us)  11.16ms (697.31us)        16\n",
      "  nlp_grad_f  |   5.64ms (331.65us)   5.69ms (334.55us)        17\n",
      "  nlp_hess_l  |   9.09ms (605.93us)   9.05ms (603.03us)        15\n",
      "   nlp_jac_g  |  18.66ms (  1.10ms)  18.82ms (  1.11ms)        17\n",
      "       total  | 104.19ms (104.19ms) 104.57ms (104.57ms)         1\n",
      "This is Ipopt version 3.12.3, running with linear solver mumps.\n",
      "NOTE: Other linear solvers might be more efficient (see Ipopt documentation).\n",
      "\n",
      "Number of nonzeros in equality constraint Jacobian...:        0\n",
      "Number of nonzeros in inequality constraint Jacobian.:     8500\n",
      "Number of nonzeros in Lagrangian Hessian.............:     1275\n",
      "\n",
      "Total number of variables............................:       50\n",
      "                     variables with only lower bounds:        0\n",
      "                variables with lower and upper bounds:        0\n",
      "                     variables with only upper bounds:        0\n",
      "Total number of equality constraints.................:        0\n",
      "Total number of inequality constraints...............:      170\n",
      "        inequality constraints with only lower bounds:        0\n",
      "   inequality constraints with lower and upper bounds:        0\n",
      "        inequality constraints with only upper bounds:      170\n",
      "\n",
      "iter    objective    inf_pr   inf_du lg(mu)  ||d||  lg(rg) alpha_du alpha_pr  ls\n",
      "   0  0.0000000e+00 0.00e+00 2.38e+00  -1.0 0.00e+00    -  0.00e+00 0.00e+00   0\n",
      "   1 -1.2060330e+01 0.00e+00 1.48e+00  -1.0 6.84e-01    -  4.01e-01 1.00e+00f  1\n",
      "   2 -2.2284417e+01 0.00e+00 6.38e-01  -1.0 1.19e+00    -  5.61e-01 1.00e+00f  1\n",
      "   3 -2.6144183e+01 0.00e+00 2.15e-01  -1.7 1.11e+00    -  5.32e-01 6.71e-01f  1\n",
      "   4 -2.8575289e+01 0.00e+00 1.48e-01  -1.7 1.13e+00    -  6.34e-01 9.01e-01f  1\n",
      "   5 -2.9089452e+01 0.00e+00 4.35e-02  -2.5 5.53e-01    -  7.64e-01 6.31e-01f  1\n",
      "   6 -2.9367824e+01 0.00e+00 5.64e-03  -2.5 3.59e-01    -  1.00e+00 9.67e-01f  1\n",
      "   7 -2.9448815e+01 0.00e+00 4.28e-03  -3.8 1.17e-01    -  9.47e-01 8.77e-01f  1\n",
      "   8 -2.9463178e+01 0.00e+00 1.50e-09  -3.8 5.47e-02    -  1.00e+00 1.00e+00f  1\n",
      "   9 -2.9467326e+01 0.00e+00 6.91e-04  -5.7 1.94e-02    -  9.70e-01 9.11e-01f  1\n",
      "iter    objective    inf_pr   inf_du lg(mu)  ||d||  lg(rg) alpha_du alpha_pr  ls\n",
      "  10 -2.9467791e+01 0.00e+00 2.30e-04  -5.7 8.80e-03    -  1.00e+00 9.70e-01f  1\n",
      "  11 -2.9467828e+01 0.00e+00 1.84e-11  -5.7 3.54e-03    -  1.00e+00 1.00e+00f  1\n",
      "  12 -2.9467877e+01 0.00e+00 1.30e-05  -8.6 1.70e-03    -  9.90e-01 9.83e-01f  1\n",
      "  13 -2.9467880e+01 0.00e+00 2.51e-14  -8.6 6.78e-04    -  1.00e+00 1.00e+00f  1\n",
      "  14 -2.9467880e+01 0.00e+00 2.51e-14  -8.6 1.43e-04    -  1.00e+00 1.00e+00h  1\n",
      "  15 -2.9467880e+01 0.00e+00 1.87e-14  -9.0 7.85e-06    -  1.00e+00 1.00e+00h  1\n",
      "\n",
      "Number of Iterations....: 15\n",
      "\n",
      "                                   (scaled)                 (unscaled)\n",
      "Objective...............:  -2.9467880221974376e+01   -2.9467880221974376e+01\n",
      "Dual infeasibility......:   1.8651746813702630e-14    1.8651746813702630e-14\n",
      "Constraint violation....:   0.0000000000000000e+00    0.0000000000000000e+00\n",
      "Complementarity.........:   9.6078661769862470e-10    9.6078661769862470e-10\n",
      "Overall NLP error.......:   9.6078661769862470e-10    9.6078661769862470e-10\n",
      "\n",
      "\n",
      "Number of objective function evaluations             = 16\n",
      "Number of objective gradient evaluations             = 16\n",
      "Number of equality constraint evaluations            = 0\n",
      "Number of inequality constraint evaluations          = 16\n",
      "Number of equality constraint Jacobian evaluations   = 0\n",
      "Number of inequality constraint Jacobian evaluations = 16\n",
      "Number of Lagrangian Hessian evaluations             = 15\n",
      "Total CPU secs in IPOPT (w/o function evaluations)   =      0.049\n",
      "Total CPU secs in NLP function evaluations           =      0.047\n",
      "\n",
      "EXIT: Optimal Solution Found.\n",
      "      solver  :   t_proc      (avg)   t_wall      (avg)    n_eval\n",
      "       nlp_f  |   3.63ms (227.19us)   3.65ms (228.11us)        16\n",
      "       nlp_g  |  10.97ms (685.75us)  11.03ms (689.30us)        16\n",
      "  nlp_grad_f  |   5.78ms (340.24us)   5.83ms (342.67us)        17\n",
      "  nlp_hess_l  |   9.12ms (608.27us)   9.16ms (610.91us)        15\n",
      "   nlp_jac_g  |  18.81ms (  1.11ms)  18.91ms (  1.11ms)        17\n",
      "       total  | 107.49ms (107.49ms) 108.34ms (108.34ms)         1\n",
      "This is Ipopt version 3.12.3, running with linear solver mumps.\n",
      "NOTE: Other linear solvers might be more efficient (see Ipopt documentation).\n",
      "\n",
      "Number of nonzeros in equality constraint Jacobian...:        0\n",
      "Number of nonzeros in inequality constraint Jacobian.:     8500\n",
      "Number of nonzeros in Lagrangian Hessian.............:     1275\n",
      "\n",
      "Total number of variables............................:       50\n",
      "                     variables with only lower bounds:        0\n",
      "                variables with lower and upper bounds:        0\n",
      "                     variables with only upper bounds:        0\n",
      "Total number of equality constraints.................:        0\n",
      "Total number of inequality constraints...............:      170\n",
      "        inequality constraints with only lower bounds:        0\n",
      "   inequality constraints with lower and upper bounds:        0\n",
      "        inequality constraints with only upper bounds:      170\n",
      "\n",
      "iter    objective    inf_pr   inf_du lg(mu)  ||d||  lg(rg) alpha_du alpha_pr  ls\n",
      "   0  0.0000000e+00 0.00e+00 2.38e+00  -1.0 0.00e+00    -  0.00e+00 0.00e+00   0\n",
      "   1 -1.2060330e+01 0.00e+00 1.48e+00  -1.0 6.84e-01    -  4.01e-01 1.00e+00f  1\n",
      "   2 -2.2284417e+01 0.00e+00 6.38e-01  -1.0 1.19e+00    -  5.61e-01 1.00e+00f  1\n",
      "   3 -2.6144183e+01 0.00e+00 2.15e-01  -1.7 1.11e+00    -  5.32e-01 6.71e-01f  1\n",
      "   4 -2.8575289e+01 0.00e+00 1.48e-01  -1.7 1.13e+00    -  6.34e-01 9.01e-01f  1\n",
      "   5 -2.9089452e+01 0.00e+00 4.35e-02  -2.5 5.53e-01    -  7.64e-01 6.31e-01f  1\n",
      "   6 -2.9367824e+01 0.00e+00 5.64e-03  -2.5 3.59e-01    -  1.00e+00 9.67e-01f  1\n",
      "   7 -2.9448815e+01 0.00e+00 4.28e-03  -3.8 1.17e-01    -  9.47e-01 8.77e-01f  1\n",
      "   8 -2.9463178e+01 0.00e+00 1.50e-09  -3.8 5.47e-02    -  1.00e+00 1.00e+00f  1\n",
      "   9 -2.9467326e+01 0.00e+00 6.91e-04  -5.7 1.94e-02    -  9.70e-01 9.11e-01f  1\n",
      "iter    objective    inf_pr   inf_du lg(mu)  ||d||  lg(rg) alpha_du alpha_pr  ls\n",
      "  10 -2.9467791e+01 0.00e+00 2.30e-04  -5.7 8.80e-03    -  1.00e+00 9.70e-01f  1\n",
      "  11 -2.9467828e+01 0.00e+00 1.84e-11  -5.7 3.54e-03    -  1.00e+00 1.00e+00f  1\n",
      "  12 -2.9467877e+01 0.00e+00 1.30e-05  -8.6 1.70e-03    -  9.90e-01 9.83e-01f  1\n",
      "  13 -2.9467880e+01 0.00e+00 2.51e-14  -8.6 6.78e-04    -  1.00e+00 1.00e+00f  1\n",
      "  14 -2.9467880e+01 0.00e+00 2.51e-14  -8.6 1.43e-04    -  1.00e+00 1.00e+00h  1\n",
      "  15 -2.9467880e+01 0.00e+00 1.87e-14  -9.0 7.85e-06    -  1.00e+00 1.00e+00h  1\n",
      "\n",
      "Number of Iterations....: 15\n",
      "\n",
      "                                   (scaled)                 (unscaled)\n",
      "Objective...............:  -2.9467880221974376e+01   -2.9467880221974376e+01\n",
      "Dual infeasibility......:   1.8651746813702630e-14    1.8651746813702630e-14\n",
      "Constraint violation....:   0.0000000000000000e+00    0.0000000000000000e+00\n",
      "Complementarity.........:   9.6078661769862470e-10    9.6078661769862470e-10\n",
      "Overall NLP error.......:   9.6078661769862470e-10    9.6078661769862470e-10\n",
      "\n",
      "\n",
      "Number of objective function evaluations             = 16\n",
      "Number of objective gradient evaluations             = 16\n",
      "Number of equality constraint evaluations            = 0\n",
      "Number of inequality constraint evaluations          = 16\n",
      "Number of equality constraint Jacobian evaluations   = 0\n",
      "Number of inequality constraint Jacobian evaluations = 16\n",
      "Number of Lagrangian Hessian evaluations             = 15\n",
      "Total CPU secs in IPOPT (w/o function evaluations)   =      0.049\n",
      "Total CPU secs in NLP function evaluations           =      0.046\n",
      "\n",
      "EXIT: Optimal Solution Found.\n",
      "      solver  :   t_proc      (avg)   t_wall      (avg)    n_eval\n",
      "       nlp_f  |   3.57ms (223.44us)   3.59ms (224.65us)        16\n",
      "       nlp_g  |  10.79ms (674.25us)  10.90ms (681.28us)        16\n",
      "  nlp_grad_f  |   5.77ms (339.18us)   5.81ms (341.73us)        17\n",
      "  nlp_hess_l  |   9.06ms (604.00us)   9.08ms (605.04us)        15\n",
      "   nlp_jac_g  |  18.13ms (  1.07ms)  18.17ms (  1.07ms)        17\n",
      "       total  | 105.91ms (105.91ms) 107.06ms (107.06ms)         1\n",
      "This is Ipopt version 3.12.3, running with linear solver mumps.\n"
     ]
    },
    {
     "name": "stdout",
     "output_type": "stream",
     "text": [
      "NOTE: Other linear solvers might be more efficient (see Ipopt documentation).\n",
      "\n",
      "Number of nonzeros in equality constraint Jacobian...:        0\n",
      "Number of nonzeros in inequality constraint Jacobian.:     8500\n",
      "Number of nonzeros in Lagrangian Hessian.............:     1275\n",
      "\n",
      "Total number of variables............................:       50\n",
      "                     variables with only lower bounds:        0\n",
      "                variables with lower and upper bounds:        0\n",
      "                     variables with only upper bounds:        0\n",
      "Total number of equality constraints.................:        0\n",
      "Total number of inequality constraints...............:      170\n",
      "        inequality constraints with only lower bounds:        0\n",
      "   inequality constraints with lower and upper bounds:        0\n",
      "        inequality constraints with only upper bounds:      170\n",
      "\n",
      "iter    objective    inf_pr   inf_du lg(mu)  ||d||  lg(rg) alpha_du alpha_pr  ls\n",
      "   0  0.0000000e+00 0.00e+00 2.38e+00  -1.0 0.00e+00    -  0.00e+00 0.00e+00   0\n",
      "   1 -1.2060330e+01 0.00e+00 1.48e+00  -1.0 6.84e-01    -  4.01e-01 1.00e+00f  1\n",
      "   2 -2.2284417e+01 0.00e+00 6.38e-01  -1.0 1.19e+00    -  5.61e-01 1.00e+00f  1\n",
      "   3 -2.6144183e+01 0.00e+00 2.15e-01  -1.7 1.11e+00    -  5.32e-01 6.71e-01f  1\n",
      "   4 -2.8575289e+01 0.00e+00 1.48e-01  -1.7 1.13e+00    -  6.34e-01 9.01e-01f  1\n",
      "   5 -2.9089452e+01 0.00e+00 4.35e-02  -2.5 5.53e-01    -  7.64e-01 6.31e-01f  1\n",
      "   6 -2.9367824e+01 0.00e+00 5.64e-03  -2.5 3.59e-01    -  1.00e+00 9.67e-01f  1\n",
      "   7 -2.9448815e+01 0.00e+00 4.28e-03  -3.8 1.17e-01    -  9.47e-01 8.77e-01f  1\n",
      "   8 -2.9463178e+01 0.00e+00 1.50e-09  -3.8 5.47e-02    -  1.00e+00 1.00e+00f  1\n",
      "   9 -2.9467326e+01 0.00e+00 6.91e-04  -5.7 1.94e-02    -  9.70e-01 9.11e-01f  1\n",
      "iter    objective    inf_pr   inf_du lg(mu)  ||d||  lg(rg) alpha_du alpha_pr  ls\n",
      "  10 -2.9467791e+01 0.00e+00 2.30e-04  -5.7 8.80e-03    -  1.00e+00 9.70e-01f  1\n",
      "  11 -2.9467828e+01 0.00e+00 1.84e-11  -5.7 3.54e-03    -  1.00e+00 1.00e+00f  1\n",
      "  12 -2.9467877e+01 0.00e+00 1.30e-05  -8.6 1.70e-03    -  9.90e-01 9.83e-01f  1\n",
      "  13 -2.9467880e+01 0.00e+00 2.51e-14  -8.6 6.78e-04    -  1.00e+00 1.00e+00f  1\n",
      "  14 -2.9467880e+01 0.00e+00 2.51e-14  -8.6 1.43e-04    -  1.00e+00 1.00e+00h  1\n",
      "  15 -2.9467880e+01 0.00e+00 1.87e-14  -9.0 7.85e-06    -  1.00e+00 1.00e+00h  1\n",
      "\n",
      "Number of Iterations....: 15\n",
      "\n",
      "                                   (scaled)                 (unscaled)\n",
      "Objective...............:  -2.9467880221974376e+01   -2.9467880221974376e+01\n",
      "Dual infeasibility......:   1.8651746813702630e-14    1.8651746813702630e-14\n",
      "Constraint violation....:   0.0000000000000000e+00    0.0000000000000000e+00\n",
      "Complementarity.........:   9.6078661769862470e-10    9.6078661769862470e-10\n",
      "Overall NLP error.......:   9.6078661769862470e-10    9.6078661769862470e-10\n",
      "\n",
      "\n",
      "Number of objective function evaluations             = 16\n",
      "Number of objective gradient evaluations             = 16\n",
      "Number of equality constraint evaluations            = 0\n",
      "Number of inequality constraint evaluations          = 16\n",
      "Number of equality constraint Jacobian evaluations   = 0\n",
      "Number of inequality constraint Jacobian evaluations = 16\n",
      "Number of Lagrangian Hessian evaluations             = 15\n",
      "Total CPU secs in IPOPT (w/o function evaluations)   =      0.050\n",
      "Total CPU secs in NLP function evaluations           =      0.046\n",
      "\n",
      "EXIT: Optimal Solution Found.\n",
      "      solver  :   t_proc      (avg)   t_wall      (avg)    n_eval\n",
      "       nlp_f  |   3.61ms (225.81us)   3.65ms (228.21us)        16\n",
      "       nlp_g  |  10.77ms (672.81us)  10.80ms (675.21us)        16\n",
      "  nlp_grad_f  |   5.63ms (331.29us)   5.69ms (334.88us)        17\n",
      "  nlp_hess_l  |   9.05ms (603.67us)   9.09ms (605.83us)        15\n",
      "   nlp_jac_g  |  18.50ms (  1.09ms)  18.51ms (  1.09ms)        17\n",
      "       total  | 108.88ms (108.88ms) 109.95ms (109.95ms)         1\n",
      "This is Ipopt version 3.12.3, running with linear solver mumps.\n",
      "NOTE: Other linear solvers might be more efficient (see Ipopt documentation).\n",
      "\n",
      "Number of nonzeros in equality constraint Jacobian...:        0\n",
      "Number of nonzeros in inequality constraint Jacobian.:     8500\n",
      "Number of nonzeros in Lagrangian Hessian.............:     1275\n",
      "\n",
      "Total number of variables............................:       50\n",
      "                     variables with only lower bounds:        0\n",
      "                variables with lower and upper bounds:        0\n",
      "                     variables with only upper bounds:        0\n",
      "Total number of equality constraints.................:        0\n",
      "Total number of inequality constraints...............:      170\n",
      "        inequality constraints with only lower bounds:        0\n",
      "   inequality constraints with lower and upper bounds:        0\n",
      "        inequality constraints with only upper bounds:      170\n",
      "\n",
      "iter    objective    inf_pr   inf_du lg(mu)  ||d||  lg(rg) alpha_du alpha_pr  ls\n",
      "   0  0.0000000e+00 0.00e+00 2.38e+00  -1.0 0.00e+00    -  0.00e+00 0.00e+00   0\n",
      "   1 -1.2060330e+01 0.00e+00 1.48e+00  -1.0 6.84e-01    -  4.01e-01 1.00e+00f  1\n",
      "   2 -2.2284417e+01 0.00e+00 6.38e-01  -1.0 1.19e+00    -  5.61e-01 1.00e+00f  1\n",
      "   3 -2.6144183e+01 0.00e+00 2.15e-01  -1.7 1.11e+00    -  5.32e-01 6.71e-01f  1\n",
      "   4 -2.8575289e+01 0.00e+00 1.48e-01  -1.7 1.13e+00    -  6.34e-01 9.01e-01f  1\n",
      "   5 -2.9089452e+01 0.00e+00 4.35e-02  -2.5 5.53e-01    -  7.64e-01 6.31e-01f  1\n",
      "   6 -2.9367824e+01 0.00e+00 5.64e-03  -2.5 3.59e-01    -  1.00e+00 9.67e-01f  1\n",
      "   7 -2.9448815e+01 0.00e+00 4.28e-03  -3.8 1.17e-01    -  9.47e-01 8.77e-01f  1\n",
      "   8 -2.9463178e+01 0.00e+00 1.50e-09  -3.8 5.47e-02    -  1.00e+00 1.00e+00f  1\n",
      "   9 -2.9467326e+01 0.00e+00 6.91e-04  -5.7 1.94e-02    -  9.70e-01 9.11e-01f  1\n",
      "iter    objective    inf_pr   inf_du lg(mu)  ||d||  lg(rg) alpha_du alpha_pr  ls\n",
      "  10 -2.9467791e+01 0.00e+00 2.30e-04  -5.7 8.80e-03    -  1.00e+00 9.70e-01f  1\n",
      "  11 -2.9467828e+01 0.00e+00 1.84e-11  -5.7 3.54e-03    -  1.00e+00 1.00e+00f  1\n",
      "  12 -2.9467877e+01 0.00e+00 1.30e-05  -8.6 1.70e-03    -  9.90e-01 9.83e-01f  1\n",
      "  13 -2.9467880e+01 0.00e+00 2.51e-14  -8.6 6.78e-04    -  1.00e+00 1.00e+00f  1\n",
      "  14 -2.9467880e+01 0.00e+00 2.51e-14  -8.6 1.43e-04    -  1.00e+00 1.00e+00h  1\n",
      "  15 -2.9467880e+01 0.00e+00 1.87e-14  -9.0 7.85e-06    -  1.00e+00 1.00e+00h  1\n",
      "\n",
      "Number of Iterations....: 15\n",
      "\n",
      "                                   (scaled)                 (unscaled)\n",
      "Objective...............:  -2.9467880221974376e+01   -2.9467880221974376e+01\n",
      "Dual infeasibility......:   1.8651746813702630e-14    1.8651746813702630e-14\n",
      "Constraint violation....:   0.0000000000000000e+00    0.0000000000000000e+00\n",
      "Complementarity.........:   9.6078661769862470e-10    9.6078661769862470e-10\n",
      "Overall NLP error.......:   9.6078661769862470e-10    9.6078661769862470e-10\n",
      "\n",
      "\n",
      "Number of objective function evaluations             = 16\n",
      "Number of objective gradient evaluations             = 16\n",
      "Number of equality constraint evaluations            = 0\n",
      "Number of inequality constraint evaluations          = 16\n",
      "Number of equality constraint Jacobian evaluations   = 0\n",
      "Number of inequality constraint Jacobian evaluations = 16\n",
      "Number of Lagrangian Hessian evaluations             = 15\n",
      "Total CPU secs in IPOPT (w/o function evaluations)   =      0.049\n",
      "Total CPU secs in NLP function evaluations           =      0.046\n",
      "\n",
      "EXIT: Optimal Solution Found.\n",
      "      solver  :   t_proc      (avg)   t_wall      (avg)    n_eval\n",
      "       nlp_f  |   3.55ms (221.88us)   3.56ms (222.39us)        16\n",
      "       nlp_g  |  10.90ms (680.94us)  10.95ms (684.63us)        16\n",
      "  nlp_grad_f  |   5.54ms (325.88us)   5.56ms (326.78us)        17\n",
      "  nlp_hess_l  |   8.88ms (591.67us)   8.90ms (593.11us)        15\n",
      "   nlp_jac_g  |  18.53ms (  1.09ms)  18.65ms (  1.10ms)        17\n",
      "       total  | 106.02ms (106.02ms) 107.51ms (107.51ms)         1\n",
      "This is Ipopt version 3.12.3, running with linear solver mumps.\n",
      "NOTE: Other linear solvers might be more efficient (see Ipopt documentation).\n",
      "\n",
      "Number of nonzeros in equality constraint Jacobian...:        0\n",
      "Number of nonzeros in inequality constraint Jacobian.:     8500\n",
      "Number of nonzeros in Lagrangian Hessian.............:     1275\n",
      "\n",
      "Total number of variables............................:       50\n",
      "                     variables with only lower bounds:        0\n",
      "                variables with lower and upper bounds:        0\n",
      "                     variables with only upper bounds:        0\n",
      "Total number of equality constraints.................:        0\n",
      "Total number of inequality constraints...............:      170\n",
      "        inequality constraints with only lower bounds:        0\n",
      "   inequality constraints with lower and upper bounds:        0\n",
      "        inequality constraints with only upper bounds:      170\n",
      "\n",
      "iter    objective    inf_pr   inf_du lg(mu)  ||d||  lg(rg) alpha_du alpha_pr  ls\n",
      "   0  0.0000000e+00 0.00e+00 2.38e+00  -1.0 0.00e+00    -  0.00e+00 0.00e+00   0\n",
      "   1 -1.2060330e+01 0.00e+00 1.48e+00  -1.0 6.84e-01    -  4.01e-01 1.00e+00f  1\n",
      "   2 -2.2284417e+01 0.00e+00 6.38e-01  -1.0 1.19e+00    -  5.61e-01 1.00e+00f  1\n",
      "   3 -2.6144183e+01 0.00e+00 2.15e-01  -1.7 1.11e+00    -  5.32e-01 6.71e-01f  1\n",
      "   4 -2.8575289e+01 0.00e+00 1.48e-01  -1.7 1.13e+00    -  6.34e-01 9.01e-01f  1\n",
      "   5 -2.9089452e+01 0.00e+00 4.35e-02  -2.5 5.53e-01    -  7.64e-01 6.31e-01f  1\n",
      "   6 -2.9367824e+01 0.00e+00 5.64e-03  -2.5 3.59e-01    -  1.00e+00 9.67e-01f  1\n",
      "   7 -2.9448815e+01 0.00e+00 4.28e-03  -3.8 1.17e-01    -  9.47e-01 8.77e-01f  1\n",
      "   8 -2.9463178e+01 0.00e+00 1.50e-09  -3.8 5.47e-02    -  1.00e+00 1.00e+00f  1\n",
      "   9 -2.9467326e+01 0.00e+00 6.91e-04  -5.7 1.94e-02    -  9.70e-01 9.11e-01f  1\n",
      "iter    objective    inf_pr   inf_du lg(mu)  ||d||  lg(rg) alpha_du alpha_pr  ls\n",
      "  10 -2.9467791e+01 0.00e+00 2.30e-04  -5.7 8.80e-03    -  1.00e+00 9.70e-01f  1\n",
      "  11 -2.9467828e+01 0.00e+00 1.84e-11  -5.7 3.54e-03    -  1.00e+00 1.00e+00f  1\n",
      "  12 -2.9467877e+01 0.00e+00 1.30e-05  -8.6 1.70e-03    -  9.90e-01 9.83e-01f  1\n",
      "  13 -2.9467880e+01 0.00e+00 2.51e-14  -8.6 6.78e-04    -  1.00e+00 1.00e+00f  1\n",
      "  14 -2.9467880e+01 0.00e+00 2.51e-14  -8.6 1.43e-04    -  1.00e+00 1.00e+00h  1\n",
      "  15 -2.9467880e+01 0.00e+00 1.87e-14  -9.0 7.85e-06    -  1.00e+00 1.00e+00h  1\n",
      "\n",
      "Number of Iterations....: 15\n",
      "\n",
      "                                   (scaled)                 (unscaled)\n",
      "Objective...............:  -2.9467880221974376e+01   -2.9467880221974376e+01\n",
      "Dual infeasibility......:   1.8651746813702630e-14    1.8651746813702630e-14\n",
      "Constraint violation....:   0.0000000000000000e+00    0.0000000000000000e+00\n",
      "Complementarity.........:   9.6078661769862470e-10    9.6078661769862470e-10\n",
      "Overall NLP error.......:   9.6078661769862470e-10    9.6078661769862470e-10\n",
      "\n",
      "\n",
      "Number of objective function evaluations             = 16\n",
      "Number of objective gradient evaluations             = 16\n",
      "Number of equality constraint evaluations            = 0\n",
      "Number of inequality constraint evaluations          = 16\n",
      "Number of equality constraint Jacobian evaluations   = 0\n",
      "Number of inequality constraint Jacobian evaluations = 16\n",
      "Number of Lagrangian Hessian evaluations             = 15\n",
      "Total CPU secs in IPOPT (w/o function evaluations)   =      0.049\n",
      "Total CPU secs in NLP function evaluations           =      0.046\n",
      "\n",
      "EXIT: Optimal Solution Found.\n",
      "      solver  :   t_proc      (avg)   t_wall      (avg)    n_eval\n",
      "       nlp_f  |   3.60ms (224.94us)   3.63ms (226.59us)        16\n",
      "       nlp_g  |  10.87ms (679.06us)  11.03ms (689.53us)        16\n",
      "  nlp_grad_f  |   5.56ms (327.06us)   5.56ms (327.25us)        17\n",
      "  nlp_hess_l  |   9.30ms (619.93us)   9.42ms (628.25us)        15\n",
      "   nlp_jac_g  |  18.17ms (  1.07ms)  18.17ms (  1.07ms)        17\n",
      "       total  | 106.50ms (106.50ms) 108.24ms (108.24ms)         1\n",
      "This is Ipopt version 3.12.3, running with linear solver mumps.\n",
      "NOTE: Other linear solvers might be more efficient (see Ipopt documentation).\n",
      "\n",
      "Number of nonzeros in equality constraint Jacobian...:        0\n",
      "Number of nonzeros in inequality constraint Jacobian.:     8500\n",
      "Number of nonzeros in Lagrangian Hessian.............:     1275\n",
      "\n",
      "Total number of variables............................:       50\n",
      "                     variables with only lower bounds:        0\n",
      "                variables with lower and upper bounds:        0\n",
      "                     variables with only upper bounds:        0\n",
      "Total number of equality constraints.................:        0\n",
      "Total number of inequality constraints...............:      170\n",
      "        inequality constraints with only lower bounds:        0\n",
      "   inequality constraints with lower and upper bounds:        0\n",
      "        inequality constraints with only upper bounds:      170\n",
      "\n",
      "iter    objective    inf_pr   inf_du lg(mu)  ||d||  lg(rg) alpha_du alpha_pr  ls\n",
      "   0  0.0000000e+00 0.00e+00 2.38e+00  -1.0 0.00e+00    -  0.00e+00 0.00e+00   0\n",
      "   1 -1.2060330e+01 0.00e+00 1.48e+00  -1.0 6.84e-01    -  4.01e-01 1.00e+00f  1\n",
      "   2 -2.2284417e+01 0.00e+00 6.38e-01  -1.0 1.19e+00    -  5.61e-01 1.00e+00f  1\n",
      "   3 -2.6144183e+01 0.00e+00 2.15e-01  -1.7 1.11e+00    -  5.32e-01 6.71e-01f  1\n",
      "   4 -2.8575289e+01 0.00e+00 1.48e-01  -1.7 1.13e+00    -  6.34e-01 9.01e-01f  1\n",
      "   5 -2.9089452e+01 0.00e+00 4.35e-02  -2.5 5.53e-01    -  7.64e-01 6.31e-01f  1\n",
      "   6 -2.9367824e+01 0.00e+00 5.64e-03  -2.5 3.59e-01    -  1.00e+00 9.67e-01f  1\n",
      "   7 -2.9448815e+01 0.00e+00 4.28e-03  -3.8 1.17e-01    -  9.47e-01 8.77e-01f  1\n",
      "   8 -2.9463178e+01 0.00e+00 1.50e-09  -3.8 5.47e-02    -  1.00e+00 1.00e+00f  1\n",
      "   9 -2.9467326e+01 0.00e+00 6.91e-04  -5.7 1.94e-02    -  9.70e-01 9.11e-01f  1\n",
      "iter    objective    inf_pr   inf_du lg(mu)  ||d||  lg(rg) alpha_du alpha_pr  ls\n",
      "  10 -2.9467791e+01 0.00e+00 2.30e-04  -5.7 8.80e-03    -  1.00e+00 9.70e-01f  1\n",
      "  11 -2.9467828e+01 0.00e+00 1.84e-11  -5.7 3.54e-03    -  1.00e+00 1.00e+00f  1\n",
      "  12 -2.9467877e+01 0.00e+00 1.30e-05  -8.6 1.70e-03    -  9.90e-01 9.83e-01f  1\n",
      "  13 -2.9467880e+01 0.00e+00 2.51e-14  -8.6 6.78e-04    -  1.00e+00 1.00e+00f  1\n"
     ]
    },
    {
     "name": "stdout",
     "output_type": "stream",
     "text": [
      "  14 -2.9467880e+01 0.00e+00 2.51e-14  -8.6 1.43e-04    -  1.00e+00 1.00e+00h  1\n",
      "  15 -2.9467880e+01 0.00e+00 1.87e-14  -9.0 7.85e-06    -  1.00e+00 1.00e+00h  1\n",
      "\n",
      "Number of Iterations....: 15\n",
      "\n",
      "                                   (scaled)                 (unscaled)\n",
      "Objective...............:  -2.9467880221974376e+01   -2.9467880221974376e+01\n",
      "Dual infeasibility......:   1.8651746813702630e-14    1.8651746813702630e-14\n",
      "Constraint violation....:   0.0000000000000000e+00    0.0000000000000000e+00\n",
      "Complementarity.........:   9.6078661769862470e-10    9.6078661769862470e-10\n",
      "Overall NLP error.......:   9.6078661769862470e-10    9.6078661769862470e-10\n",
      "\n",
      "\n",
      "Number of objective function evaluations             = 16\n",
      "Number of objective gradient evaluations             = 16\n",
      "Number of equality constraint evaluations            = 0\n",
      "Number of inequality constraint evaluations          = 16\n",
      "Number of equality constraint Jacobian evaluations   = 0\n",
      "Number of inequality constraint Jacobian evaluations = 16\n",
      "Number of Lagrangian Hessian evaluations             = 15\n",
      "Total CPU secs in IPOPT (w/o function evaluations)   =      0.050\n",
      "Total CPU secs in NLP function evaluations           =      0.046\n",
      "\n",
      "EXIT: Optimal Solution Found.\n",
      "      solver  :   t_proc      (avg)   t_wall      (avg)    n_eval\n",
      "       nlp_f  |   3.73ms (233.44us)   3.78ms (235.97us)        16\n",
      "       nlp_g  |  10.79ms (674.44us)  10.85ms (678.07us)        16\n",
      "  nlp_grad_f  |   5.52ms (324.76us)   5.56ms (326.83us)        17\n",
      "  nlp_hess_l  |   9.43ms (628.87us)   9.49ms (632.68us)        15\n",
      "   nlp_jac_g  |  18.14ms (  1.07ms)  18.26ms (  1.07ms)        17\n",
      "       total  | 106.65ms (106.65ms) 108.38ms (108.38ms)         1\n",
      "This is Ipopt version 3.12.3, running with linear solver mumps.\n",
      "NOTE: Other linear solvers might be more efficient (see Ipopt documentation).\n",
      "\n",
      "Number of nonzeros in equality constraint Jacobian...:        0\n",
      "Number of nonzeros in inequality constraint Jacobian.:     8500\n",
      "Number of nonzeros in Lagrangian Hessian.............:     1275\n",
      "\n",
      "Total number of variables............................:       50\n",
      "                     variables with only lower bounds:        0\n",
      "                variables with lower and upper bounds:        0\n",
      "                     variables with only upper bounds:        0\n",
      "Total number of equality constraints.................:        0\n",
      "Total number of inequality constraints...............:      170\n",
      "        inequality constraints with only lower bounds:        0\n",
      "   inequality constraints with lower and upper bounds:        0\n",
      "        inequality constraints with only upper bounds:      170\n",
      "\n",
      "iter    objective    inf_pr   inf_du lg(mu)  ||d||  lg(rg) alpha_du alpha_pr  ls\n",
      "   0  0.0000000e+00 0.00e+00 2.38e+00  -1.0 0.00e+00    -  0.00e+00 0.00e+00   0\n",
      "   1 -1.2060330e+01 0.00e+00 1.48e+00  -1.0 6.84e-01    -  4.01e-01 1.00e+00f  1\n",
      "   2 -2.2284417e+01 0.00e+00 6.38e-01  -1.0 1.19e+00    -  5.61e-01 1.00e+00f  1\n",
      "   3 -2.6144183e+01 0.00e+00 2.15e-01  -1.7 1.11e+00    -  5.32e-01 6.71e-01f  1\n",
      "   4 -2.8575289e+01 0.00e+00 1.48e-01  -1.7 1.13e+00    -  6.34e-01 9.01e-01f  1\n",
      "   5 -2.9089452e+01 0.00e+00 4.35e-02  -2.5 5.53e-01    -  7.64e-01 6.31e-01f  1\n",
      "   6 -2.9367824e+01 0.00e+00 5.64e-03  -2.5 3.59e-01    -  1.00e+00 9.67e-01f  1\n",
      "   7 -2.9448815e+01 0.00e+00 4.28e-03  -3.8 1.17e-01    -  9.47e-01 8.77e-01f  1\n",
      "   8 -2.9463178e+01 0.00e+00 1.50e-09  -3.8 5.47e-02    -  1.00e+00 1.00e+00f  1\n",
      "   9 -2.9467326e+01 0.00e+00 6.91e-04  -5.7 1.94e-02    -  9.70e-01 9.11e-01f  1\n",
      "iter    objective    inf_pr   inf_du lg(mu)  ||d||  lg(rg) alpha_du alpha_pr  ls\n",
      "  10 -2.9467791e+01 0.00e+00 2.30e-04  -5.7 8.80e-03    -  1.00e+00 9.70e-01f  1\n",
      "  11 -2.9467828e+01 0.00e+00 1.84e-11  -5.7 3.54e-03    -  1.00e+00 1.00e+00f  1\n",
      "  12 -2.9467877e+01 0.00e+00 1.30e-05  -8.6 1.70e-03    -  9.90e-01 9.83e-01f  1\n",
      "  13 -2.9467880e+01 0.00e+00 2.51e-14  -8.6 6.78e-04    -  1.00e+00 1.00e+00f  1\n",
      "  14 -2.9467880e+01 0.00e+00 2.51e-14  -8.6 1.43e-04    -  1.00e+00 1.00e+00h  1\n",
      "  15 -2.9467880e+01 0.00e+00 1.87e-14  -9.0 7.85e-06    -  1.00e+00 1.00e+00h  1\n",
      "\n",
      "Number of Iterations....: 15\n",
      "\n",
      "                                   (scaled)                 (unscaled)\n",
      "Objective...............:  -2.9467880221974376e+01   -2.9467880221974376e+01\n",
      "Dual infeasibility......:   1.8651746813702630e-14    1.8651746813702630e-14\n",
      "Constraint violation....:   0.0000000000000000e+00    0.0000000000000000e+00\n",
      "Complementarity.........:   9.6078661769862470e-10    9.6078661769862470e-10\n",
      "Overall NLP error.......:   9.6078661769862470e-10    9.6078661769862470e-10\n",
      "\n",
      "\n",
      "Number of objective function evaluations             = 16\n",
      "Number of objective gradient evaluations             = 16\n",
      "Number of equality constraint evaluations            = 0\n",
      "Number of inequality constraint evaluations          = 16\n",
      "Number of equality constraint Jacobian evaluations   = 0\n",
      "Number of inequality constraint Jacobian evaluations = 16\n",
      "Number of Lagrangian Hessian evaluations             = 15\n",
      "Total CPU secs in IPOPT (w/o function evaluations)   =      0.051\n",
      "Total CPU secs in NLP function evaluations           =      0.046\n",
      "\n",
      "EXIT: Optimal Solution Found.\n",
      "      solver  :   t_proc      (avg)   t_wall      (avg)    n_eval\n",
      "       nlp_f  |   3.58ms (224.00us)   3.61ms (225.49us)        16\n",
      "       nlp_g  |  10.79ms (674.38us)  10.84ms (677.67us)        16\n",
      "  nlp_grad_f  |   5.66ms (333.18us)   5.69ms (334.82us)        17\n",
      "  nlp_hess_l  |   9.19ms (612.80us)   9.22ms (614.40us)        15\n",
      "   nlp_jac_g  |  18.66ms (  1.10ms)  18.74ms (  1.10ms)        17\n",
      "       total  | 110.95ms (110.95ms) 113.38ms (113.38ms)         1\n",
      "This is Ipopt version 3.12.3, running with linear solver mumps.\n",
      "NOTE: Other linear solvers might be more efficient (see Ipopt documentation).\n",
      "\n",
      "Number of nonzeros in equality constraint Jacobian...:        0\n",
      "Number of nonzeros in inequality constraint Jacobian.:     8500\n",
      "Number of nonzeros in Lagrangian Hessian.............:     1275\n",
      "\n",
      "Total number of variables............................:       50\n",
      "                     variables with only lower bounds:        0\n",
      "                variables with lower and upper bounds:        0\n",
      "                     variables with only upper bounds:        0\n",
      "Total number of equality constraints.................:        0\n",
      "Total number of inequality constraints...............:      170\n",
      "        inequality constraints with only lower bounds:        0\n",
      "   inequality constraints with lower and upper bounds:        0\n",
      "        inequality constraints with only upper bounds:      170\n",
      "\n",
      "iter    objective    inf_pr   inf_du lg(mu)  ||d||  lg(rg) alpha_du alpha_pr  ls\n",
      "   0  0.0000000e+00 0.00e+00 2.38e+00  -1.0 0.00e+00    -  0.00e+00 0.00e+00   0\n",
      "   1 -1.2060330e+01 0.00e+00 1.48e+00  -1.0 6.84e-01    -  4.01e-01 1.00e+00f  1\n",
      "   2 -2.2284417e+01 0.00e+00 6.38e-01  -1.0 1.19e+00    -  5.61e-01 1.00e+00f  1\n",
      "   3 -2.6144183e+01 0.00e+00 2.15e-01  -1.7 1.11e+00    -  5.32e-01 6.71e-01f  1\n",
      "   4 -2.8575289e+01 0.00e+00 1.48e-01  -1.7 1.13e+00    -  6.34e-01 9.01e-01f  1\n",
      "   5 -2.9089452e+01 0.00e+00 4.35e-02  -2.5 5.53e-01    -  7.64e-01 6.31e-01f  1\n",
      "   6 -2.9367824e+01 0.00e+00 5.64e-03  -2.5 3.59e-01    -  1.00e+00 9.67e-01f  1\n",
      "   7 -2.9448815e+01 0.00e+00 4.28e-03  -3.8 1.17e-01    -  9.47e-01 8.77e-01f  1\n",
      "   8 -2.9463178e+01 0.00e+00 1.50e-09  -3.8 5.47e-02    -  1.00e+00 1.00e+00f  1\n",
      "   9 -2.9467326e+01 0.00e+00 6.91e-04  -5.7 1.94e-02    -  9.70e-01 9.11e-01f  1\n",
      "iter    objective    inf_pr   inf_du lg(mu)  ||d||  lg(rg) alpha_du alpha_pr  ls\n",
      "  10 -2.9467791e+01 0.00e+00 2.30e-04  -5.7 8.80e-03    -  1.00e+00 9.70e-01f  1\n",
      "  11 -2.9467828e+01 0.00e+00 1.84e-11  -5.7 3.54e-03    -  1.00e+00 1.00e+00f  1\n",
      "  12 -2.9467877e+01 0.00e+00 1.30e-05  -8.6 1.70e-03    -  9.90e-01 9.83e-01f  1\n",
      "  13 -2.9467880e+01 0.00e+00 2.51e-14  -8.6 6.78e-04    -  1.00e+00 1.00e+00f  1\n",
      "  14 -2.9467880e+01 0.00e+00 2.51e-14  -8.6 1.43e-04    -  1.00e+00 1.00e+00h  1\n",
      "  15 -2.9467880e+01 0.00e+00 1.87e-14  -9.0 7.85e-06    -  1.00e+00 1.00e+00h  1\n",
      "\n",
      "Number of Iterations....: 15\n",
      "\n",
      "                                   (scaled)                 (unscaled)\n",
      "Objective...............:  -2.9467880221974376e+01   -2.9467880221974376e+01\n",
      "Dual infeasibility......:   1.8651746813702630e-14    1.8651746813702630e-14\n",
      "Constraint violation....:   0.0000000000000000e+00    0.0000000000000000e+00\n",
      "Complementarity.........:   9.6078661769862470e-10    9.6078661769862470e-10\n",
      "Overall NLP error.......:   9.6078661769862470e-10    9.6078661769862470e-10\n",
      "\n",
      "\n",
      "Number of objective function evaluations             = 16\n",
      "Number of objective gradient evaluations             = 16\n",
      "Number of equality constraint evaluations            = 0\n",
      "Number of inequality constraint evaluations          = 16\n",
      "Number of equality constraint Jacobian evaluations   = 0\n",
      "Number of inequality constraint Jacobian evaluations = 16\n",
      "Number of Lagrangian Hessian evaluations             = 15\n",
      "Total CPU secs in IPOPT (w/o function evaluations)   =      0.051\n",
      "Total CPU secs in NLP function evaluations           =      0.046\n",
      "\n",
      "EXIT: Optimal Solution Found.\n",
      "      solver  :   t_proc      (avg)   t_wall      (avg)    n_eval\n",
      "       nlp_f  |   3.56ms (222.69us)   3.57ms (223.18us)        16\n",
      "       nlp_g  |  10.88ms (680.06us)  10.91ms (681.73us)        16\n",
      "  nlp_grad_f  |   5.73ms (336.94us)   5.78ms (339.86us)        17\n",
      "  nlp_hess_l  |   8.89ms (592.73us)   8.95ms (596.96us)        15\n",
      "   nlp_jac_g  |  18.40ms (  1.08ms)  18.42ms (  1.08ms)        17\n",
      "       total  | 110.25ms (110.25ms) 112.51ms (112.51ms)         1\n"
     ]
    }
   ],
   "source": [
    "x0=np.zeros(n)\n",
    "\n",
    "\n",
    "Ntrials = 10\n",
    "t1 = time.time()\n",
    "for i in range(Ntrials):\n",
    "    sol = solver(x0=x0, lbx=lbx, ubx=ubx, lbg=lbg, ubg=ubg)\n",
    "t2 = time.time()\n",
    "cpu_ipopt = (t2-t1)/Ntrials"
   ]
  },
  {
   "cell_type": "code",
   "execution_count": 8,
   "metadata": {
    "scrolled": true,
    "slideshow": {
     "slide_type": "slide"
    }
   },
   "outputs": [
    {
     "name": "stdout",
     "output_type": "stream",
     "text": [
      "value at optimum = -29.4679\n",
      "cpu for a single computation : 0.10954492092132569\n",
      "Number of active constraints = 18\n",
      "maximum difference over components = 1.5234159767008038e-07\n",
      "Time ratio  = 31.25123365135635\n"
     ]
    }
   ],
   "source": [
    "optimal_value = sol['f']\n",
    "x_casadi_opt = sol['x'].full().reshape(-1,1)[:,0]\n",
    "constraints = np.matmul(Aineq,x_casadi_opt) - Bineq\n",
    "print(f'value at optimum = {optimal_value}')\n",
    "print(f'cpu for a single computation : {cpu_ipopt}')\n",
    "print(f'Number of active constraints = {np.sum( constraints > 0)}')\n",
    "print(f'maximum difference over components = {abs(x.value-x_casadi_opt).max()}')\n",
    "print(f'Time ratio  = {cpu_ipopt/cpu_qp}')"
   ]
  },
  {
   "cell_type": "markdown",
   "metadata": {
    "slideshow": {
     "slide_type": "slide"
    }
   },
   "source": [
    "## Casadi QP (QP)  solver QPoases<a class=\"anchor\" id=\"casadiQP\"></a>"
   ]
  },
  {
   "cell_type": "markdown",
   "metadata": {
    "slideshow": {
     "slide_type": "-"
    }
   },
   "source": [
    "It is also possible to specify the fact the problem to be solved is quadratic in the CASADI framework. However, the syntax seems to me too complex and it is probably a good option to use **cvxpy** to solve QP problems. "
   ]
  },
  {
   "cell_type": "code",
   "execution_count": 9,
   "metadata": {
    "scrolled": true,
    "slideshow": {
     "slide_type": "-"
    }
   },
   "outputs": [
    {
     "data": {
      "text/html": [
       "\n",
       "        <iframe\n",
       "            width=\"700\"\n",
       "            height=\"400\"\n",
       "            src=\"https://web.casadi.org/docs/#quadratic-programming\"\n",
       "            frameborder=\"0\"\n",
       "            allowfullscreen\n",
       "        ></iframe>\n",
       "        "
      ],
      "text/plain": [
       "<IPython.lib.display.IFrame at 0x7feb787dc880>"
      ]
     },
     "metadata": {},
     "output_type": "display_data"
    }
   ],
   "source": [
    "width=700\n",
    "casadi_site = \"https://web.casadi.org/docs/#quadratic-programming\"\n",
    "display(IFrame(casadi_site, width=width, height=400))"
   ]
  },
  {
   "cell_type": "code",
   "execution_count": 11,
   "metadata": {
    "slideshow": {
     "slide_type": "skip"
    }
   },
   "outputs": [],
   "source": [
    "#%load_ext watermark\n",
    "#print(\"----\")\n",
    "#%watermark -v -m -p IPython,ipywidgets,casadi,scipy,matplotlib,cvxpy\n",
    "#print(\"----\")\n",
    "#%watermark -u -n -t -z"
   ]
  },
  {
   "cell_type": "code",
   "execution_count": null,
   "metadata": {},
   "outputs": [],
   "source": []
  }
 ],
 "metadata": {
  "celltoolbar": "Diaporama",
  "kernelspec": {
   "display_name": "Python 3",
   "language": "python",
   "name": "python3"
  },
  "language_info": {
   "codemirror_mode": {
    "name": "ipython",
    "version": 3
   },
   "file_extension": ".py",
   "mimetype": "text/x-python",
   "name": "python",
   "nbconvert_exporter": "python",
   "pygments_lexer": "ipython3",
   "version": "3.8.5"
  }
 },
 "nbformat": 4,
 "nbformat_minor": 4
}
