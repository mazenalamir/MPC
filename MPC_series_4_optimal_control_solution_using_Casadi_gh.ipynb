{
 "cells": [
  {
   "cell_type": "markdown",
   "metadata": {
    "slideshow": {
     "slide_type": "slide"
    }
   },
   "source": [
    "# Model Predictive Control (4) - Optimal Control Problems solution using the CasaDi framework"
   ]
  },
  {
   "cell_type": "markdown",
   "metadata": {
    "slideshow": {
     "slide_type": "slide"
    }
   },
   "source": [
    "## Table of contents <a class=\"anchor\" id=\"toc\"></a>\n",
    "\n",
    "\n",
    "### [Solving Optimal control problem using Casadi](#ThisNotebook)\n",
    "[The Casadi Framework](#casadiIntro) / [Official Video Tutorial](#tuto) / [Single-Shooting vs Multiple-Shooting](#SSvsMS) /  [Back to the PVTOL example](#SS-PVTOL) / [dynamics](#dynamics-PVTOL) / [The discrete one step function](#onestep-PVTOL) / [Single-shooting Formulation of the Nonlinear Programming Problem](#formulation-PVTOL) / [Solving the Single-Shooting problem](#solving-PVTOL) / [Multiple-shooting Formulation of the Nonlinear Programming Problem](#MS-PVTOL) / [Solvin the Multiple-Shooting problem](#solvingMS-PVTOL) / [Discussion](#discussion)"
   ]
  },
  {
   "cell_type": "code",
   "execution_count": 1,
   "metadata": {
    "slideshow": {
     "slide_type": "skip"
    }
   },
   "outputs": [
    {
     "name": "stdout",
     "output_type": "stream",
     "text": [
      "Requirement already satisfied: casadi in /opt/anaconda3/lib/python3.8/site-packages (3.5.5)\r\n"
     ]
    }
   ],
   "source": [
    "from IPython.display import Image, IFrame\n",
    "import ipywidgets as wg\n",
    "import numpy as np\n",
    "import matplotlib.pyplot as plt\n",
    "import time\n",
    "\n",
    "!pip install casadi\n",
    "\n",
    "files_root = \"https://www.mazenalamir.fr/MPC/\"\n",
    "\n",
    "width=800"
   ]
  },
  {
   "cell_type": "markdown",
   "metadata": {
    "slideshow": {
     "slide_type": "slide"
    }
   },
   "source": [
    "## This Notebook<a class=\"anchor\" id=\"ThisNotebook\"></a>\n",
    "\n",
    "In the previous noteboook, we showed that using the general purposes nonlinear programming solvers in order to solve the constrained open-loop optimal control problems can lead to computation times that might be too large to be compatible with repetitive solution of these problem as it is required in the MPC implementation. \n",
    "\n",
    "That is the reason why a dedicated solvers have been developed these last years in order to come out with NLP frameworks that might solve the underlying problem in faster way. "
   ]
  },
  {
   "cell_type": "markdown",
   "metadata": {
    "slideshow": {
     "slide_type": "slide"
    }
   },
   "source": [
    "\n",
    "One of these framework has been developed by researchers from the control system community or associated to it. This is the Casadi framework. \n",
    "\n",
    ">**Do not forget that as far as this series of course on Model Predictive Control is concerned, solving open-loop optimal control problem is a step toward the implementation of the MPC feedback which consists in applying the first control input in the optimal sequence of control. (please refer to the first notebook in this series for a complete reminder of the MPC control definition** "
   ]
  },
  {
   "cell_type": "markdown",
   "metadata": {
    "slideshow": {
     "slide_type": "slide"
    }
   },
   "source": [
    "## The Casadi Framework<a class=\"anchor\" id=\"casadiIntro\"></a>\n",
    "\n",
    "Rigorously speaking, the Casadi is not a solver but a framework of problem's defintion that calls for different kinds of NLP solvers or utilitites. It goes beyong the solution of NLP problem and can be used for a range of applied mathematics problem that can be encountered in various fields of engineerging such as:\n",
    "\n",
    "1. Integrating differential equations (ODEs) and Algebro Differential Equations (DAEs)\n",
    "2. Computing sensitivities (Jacobians, Hessian) \n",
    "3. Solving optimization problems \n",
    "4. Finding zeros of nonlinear functions, \n",
    "5. and some other possibilities\n",
    "\n",
    "For more information regarding this framework, one can visit the project's website (see below). In particular, you can visualize the tutorial video that follows. "
   ]
  },
  {
   "cell_type": "code",
   "execution_count": 2,
   "metadata": {
    "scrolled": true,
    "slideshow": {
     "slide_type": "slide"
    }
   },
   "outputs": [
    {
     "data": {
      "text/html": [
       "\n",
       "        <iframe\n",
       "            width=\"800\"\n",
       "            height=\"400\"\n",
       "            src=\"https://web.casadi.org/\"\n",
       "            frameborder=\"0\"\n",
       "            allowfullscreen\n",
       "        ></iframe>\n",
       "        "
      ],
      "text/plain": [
       "<IPython.lib.display.IFrame at 0x7fc6104eddf0>"
      ]
     },
     "metadata": {},
     "output_type": "display_data"
    }
   ],
   "source": [
    "casadi_site = \"https://web.casadi.org/\"\n",
    "display(IFrame(casadi_site, width=width, height=400))"
   ]
  },
  {
   "cell_type": "markdown",
   "metadata": {
    "slideshow": {
     "slide_type": "skip"
    }
   },
   "source": [
    "[back to toc](#toc)"
   ]
  },
  {
   "cell_type": "markdown",
   "metadata": {
    "slideshow": {
     "slide_type": "slide"
    }
   },
   "source": [
    "## Casadi official video Tutorial<a class=\"anchor\" id=\"tuto\"></a>"
   ]
  },
  {
   "cell_type": "code",
   "execution_count": 3,
   "metadata": {
    "scrolled": true,
    "slideshow": {
     "slide_type": "-"
    }
   },
   "outputs": [
    {
     "data": {
      "text/html": [
       "\n",
       "        <iframe\n",
       "            width=\"800\"\n",
       "            height=\"500\"\n",
       "            src=\"https://www.youtube.com/embed/JI-AyLv68Xs\"\n",
       "            frameborder=\"0\"\n",
       "            allowfullscreen\n",
       "        ></iframe>\n",
       "        "
      ],
      "text/plain": [
       "<IPython.lib.display.IFrame at 0x7fc6104ed3d0>"
      ]
     },
     "metadata": {},
     "output_type": "display_data"
    }
   ],
   "source": [
    "#You might need to click on the left area in order to get to the \n",
    "# total height of the cell in order to comfortably visualize the video\n",
    "\n",
    "Introduction = \"https://www.youtube.com/embed/JI-AyLv68Xs\"\n",
    "display(IFrame(Introduction, width=width, height=500))"
   ]
  },
  {
   "cell_type": "markdown",
   "metadata": {
    "slideshow": {
     "slide_type": "skip"
    }
   },
   "source": [
    "[back to toc](#toc)"
   ]
  },
  {
   "cell_type": "markdown",
   "metadata": {
    "slideshow": {
     "slide_type": "slide"
    }
   },
   "source": [
    "## Single-shooting vs Multiple-shooting<a class=\"anchor\" id=\"SSvsMS\"></a>\n",
    "\n",
    "In what follows, an example of use of this framework in order to solve the same optimal control problem that has been studied in the previous notebook is proposed for completeness. Note that there is no a unique way to use casadi to implement and solve an optimal control problem. \n",
    "\n",
    "The solution proposed in this notebook is one possibility, you might follow the video and browse the examples section in the website to come with different ways of implementing and solving the problem. "
   ]
  },
  {
   "cell_type": "markdown",
   "metadata": {
    "slideshow": {
     "slide_type": "slide"
    }
   },
   "source": [
    "In partiuclar, there is two main possibilities that are fundamentally different which are:\n",
    "\n",
    "1. The single-shooting implementation \n",
    "2. The multiple-shooting implementation\n"
   ]
  },
  {
   "cell_type": "markdown",
   "metadata": {
    "slideshow": {
     "slide_type": "slide"
    }
   },
   "source": [
    "\n",
    "These two options correspond to different definition of the decision variable, namely:\n",
    "\n",
    "- In the **single-shooting (SS)** approach, the decision variable is considerd to be the sequence of control actions over the predcition horizon. These leads to a decision variable of dimenstion $N\\cdot n_u$ where $N$ is the length of the prediction horizon while $n_u$ is the number of actuators.\n",
    "\n",
    "\n",
    "- In the **multiple-shooting (MS)** approach, the decision variable is considered to be all the trajectories of both the control and the state. The dynamics is considered through equality constaints. This leads to a decision variable of dimension $N\\cdot (n_x+n_u)$ where $n_x$ is the dimension of the state. \n"
   ]
  },
  {
   "cell_type": "markdown",
   "metadata": {
    "slideshow": {
     "slide_type": "slide"
    }
   },
   "source": [
    "\n",
    "Despite the fact that MS formulation leads to a decision variable of higher dimension, it is known that the corresponding scheme is more efficient in solving the optimal control problem (as far as casadi is concerned) since the sparsity of the problem is fully exploited to induce efficient computation. "
   ]
  },
  {
   "cell_type": "markdown",
   "metadata": {
    "slideshow": {
     "slide_type": "slide"
    }
   },
   "source": [
    "NOTA. Note that the sparsity comes from the fact that the coupling between the decision variable in the MS framework show local strucutre ($x_{k+1}$ depends only on $x_k$ and $u_k$) in the MS formulation while it depends on ($x_0$ and $u_0, u_1, \\dots, u_{k})$ in the SS formulation. \n",
    "\n",
    ">**In this notebook, we shall first implement the single shooting approach for its simplicity before the slightly more complicated mutiple shooting version is studied**. "
   ]
  },
  {
   "cell_type": "markdown",
   "metadata": {
    "slideshow": {
     "slide_type": "skip"
    }
   },
   "source": [
    "[back to toc](#toc)"
   ]
  },
  {
   "cell_type": "markdown",
   "metadata": {
    "slideshow": {
     "slide_type": "slide"
    }
   },
   "source": [
    "## Single-shooting implementation of the PVTOL open-loop optimal control problem<a class=\"anchor\" id=\"SS-PVTOL\"></a>"
   ]
  },
  {
   "cell_type": "markdown",
   "metadata": {
    "slideshow": {
     "slide_type": "slide"
    }
   },
   "source": [
    "### Definition of the dynamics<a class=\"anchor\" id=\"dynamics-PVTOL\"></a>"
   ]
  },
  {
   "cell_type": "code",
   "execution_count": 4,
   "metadata": {
    "slideshow": {
     "slide_type": "slide"
    }
   },
   "outputs": [],
   "source": [
    "# import the casadi module\n",
    "\n",
    "from casadi import MX, vertcat, Function, nlpsol, diag\n",
    "\n",
    "\n",
    "nx = 6 #number of state \n",
    "nu = 2 #number of actuators\n",
    "\n",
    "epsilon = MX.sym('epsilon', 1)\n",
    "x = MX.sym('x', nx)\n",
    "u = MX.sym('u', nu)\n",
    "xdot = vertcat(x[3], \n",
    "               x[4], \n",
    "               x[5], \n",
    "               -u[0] * np.sin(x[2])+epsilon * u[1] * np.cos(x[2]), \n",
    "                u[0] * np.cos(x[2])+epsilon * u[1] * np.sin(x[2])-1, \n",
    "                u[1],\n",
    "              )\n",
    "\n",
    "# Definition of a map called f taking three argument (x,u,epsilon) and \n",
    "# delivering the corresponding state derivative.\n",
    "# Note that in case many parameter p1, p2, ..., pn are needed, the vertcat command can be used to regroup them \n",
    "# in a single parameter vector p=vertcat(p1,p2,...,pn) and the argument list become [x,u,p]\n",
    "\n",
    "f = Function('f', [x,u, epsilon], [xdot])"
   ]
  },
  {
   "cell_type": "markdown",
   "metadata": {
    "slideshow": {
     "slide_type": "slide"
    }
   },
   "source": [
    "Note that this simply declare a constant epsilon, two vector $x$ and $u$ of dimension 6 and 2 respectively and declares that a third vector xdot is **linked** to the previous constant and variable through the relationship defined in the instruction xdot=. Note the **vertcat** (concatenate vertically) that is used to defined a vector of expression in Casadi. \n",
    "\n",
    "The last instrucition defines a fnunction called 'f' that takes the two arguments (x,u) and produce the output xdot "
   ]
  },
  {
   "cell_type": "markdown",
   "metadata": {
    "slideshow": {
     "slide_type": "skip"
    }
   },
   "source": [
    "[back to toc](#toc)"
   ]
  },
  {
   "cell_type": "code",
   "execution_count": 5,
   "metadata": {
    "slideshow": {
     "slide_type": "slide"
    }
   },
   "outputs": [
    {
     "data": {
      "text/plain": [
       "DM([-0.155536, 0.682327, 0.852269, -0.0312054, -0.863433, 0.294119])"
      ]
     },
     "execution_count": 5,
     "metadata": {},
     "output_type": "execute_result"
    }
   ],
   "source": [
    "# example of use of the resulting function \n",
    "\n",
    "x = np.random.randn(nx)\n",
    "u = np.random.randn(nu)\n",
    "eps = 0.04\n",
    "\n",
    "dxdt = f(x,u,eps)\n",
    "\n",
    "# note the type of the result (DM-casadi type)\n",
    "\n",
    "# try print(dxdt)\n",
    "# try type(dxdt)\n",
    "dxdt"
   ]
  },
  {
   "cell_type": "markdown",
   "metadata": {
    "slideshow": {
     "slide_type": "slide"
    }
   },
   "source": [
    "It is important to note that **the output of the so defined function is of a type DM which is casadi-specific type**. Before it can be used acording to the numpy operation, it is worth transform it to a numpy type using the full() operation as shown below. This will be true for all the output delivered by Casadi. "
   ]
  },
  {
   "cell_type": "code",
   "execution_count": 6,
   "metadata": {
    "slideshow": {
     "slide_type": "-"
    }
   },
   "outputs": [
    {
     "data": {
      "text/plain": [
       "array([[-0.15553582],\n",
       "       [ 0.68232734],\n",
       "       [ 0.85226875],\n",
       "       [-0.03120538],\n",
       "       [-0.86343268],\n",
       "       [ 0.29411907]])"
      ]
     },
     "execution_count": 6,
     "metadata": {},
     "output_type": "execute_result"
    }
   ],
   "source": [
    "# the casadi output can be transformed into a numpy type using full()\n",
    "\n",
    "dxdt_numpy = dxdt.full()\n",
    "dxdt_numpy"
   ]
  },
  {
   "cell_type": "markdown",
   "metadata": {
    "slideshow": {
     "slide_type": "skip"
    }
   },
   "source": [
    "[back to toc](#toc)"
   ]
  },
  {
   "cell_type": "markdown",
   "metadata": {
    "slideshow": {
     "slide_type": "slide"
    }
   },
   "source": [
    "### Definition of one step function<a class=\"anchor\" id=\"onestep-PVTOL\"></a>"
   ]
  },
  {
   "cell_type": "markdown",
   "metadata": {
    "slideshow": {
     "slide_type": "-"
    }
   },
   "source": [
    "This is the discrete-time one step predictor. We shall implement it using the fourth order Runge-Kutta scheme. The followin cell defines a casadi function F such that:\n",
    "\n",
    "$x((k+1)\\tau)=F(x(k\\tau), u(k\\tau))$\n",
    "\n",
    "where $\\tau$ denotes the control sampling period that is defined to be $\\tau=T/N$ in the following cell. "
   ]
  },
  {
   "cell_type": "code",
   "execution_count": 7,
   "metadata": {
    "slideshow": {
     "slide_type": "slide"
    }
   },
   "outputs": [],
   "source": [
    "# The prediction horizon in time unit \n",
    "\n",
    "T = 2\n",
    "\n",
    "#number of control intervals (-> control sampling interval = T/N)\n",
    "\n",
    "N = 10\n",
    "\n",
    "#number of Runge-Kutta steps per control sampling interval \n",
    "# -> The integration sampling time = T/N/M\n",
    "# M should be sufficiently high to induce sufficiently small sampling integration step\n",
    "# This is problem-dependent and should be tested off-line \n",
    "\n",
    "M = 1\n",
    "dt = T/N/M\n",
    "\n",
    "# The initial state \n",
    "x0 = MX.sym('x0', nx)\n",
    "u = MX.sym('u', nu)\n",
    "epsilon = MX.sym('epsilon', 1)\n",
    "x = x0\n",
    "for i in range(M):\n",
    "    k1 = f(x,u, epsilon)\n",
    "    k2 = f(x+0.5*dt*k1, u, epsilon)\n",
    "    k3 = f(x+0.5*dt*k2, u, epsilon)\n",
    "    k4 = f(x+dt*k3, u, epsilon)\n",
    "    x = x + dt/6*(k1+2*(k2+k3)+k4)\n",
    "    \n",
    "F = Function('F', [x0,u,epsilon], [x])    "
   ]
  },
  {
   "cell_type": "markdown",
   "metadata": {
    "slideshow": {
     "slide_type": "skip"
    }
   },
   "source": [
    "[back to toc](#toc)"
   ]
  },
  {
   "cell_type": "markdown",
   "metadata": {
    "slideshow": {
     "slide_type": "-"
    }
   },
   "source": [
    "It is important to distinguish the integration step time dt=$T/(N * M)$ from the control sampling step $\\tau=T/N$."
   ]
  },
  {
   "cell_type": "code",
   "execution_count": 8,
   "metadata": {
    "slideshow": {
     "slide_type": "slide"
    }
   },
   "outputs": [
    {
     "name": "stdout",
     "output_type": "stream",
     "text": [
      "The derivative at x is \n",
      "  [0, 0, 0, -0.008, -0.9, -0.2]\n",
      "\n",
      "\n",
      "The next state after 0.2 time unit is \n",
      " [-0.000158667, -0.0179999, -0.004, -0.00157333, -0.179998, -0.04]\n"
     ]
    }
   ],
   "source": [
    "x = np.zeros(nx)\n",
    "u = np.array([0.1, -0.2])\n",
    "epsilon = 0.04\n",
    "\n",
    "dxdt = f(x,u,epsilon)\n",
    "x_next = F(x,u,epsilon)\n",
    "\n",
    "print(f'The derivative at x is \\n  {dxdt}')\n",
    "print('\\n')\n",
    "print(f'The next state after {dt * M} time unit is \\n {x_next}')"
   ]
  },
  {
   "cell_type": "markdown",
   "metadata": {
    "slideshow": {
     "slide_type": "skip"
    }
   },
   "source": [
    "[back to toc](#toc)"
   ]
  },
  {
   "cell_type": "markdown",
   "metadata": {
    "slideshow": {
     "slide_type": "slide"
    }
   },
   "source": [
    "### Formulation of the Nonlinear Programming Problem<a class=\"anchor\" id=\"formulation-PVTOL\"></a>"
   ]
  },
  {
   "cell_type": "markdown",
   "metadata": {
    "slideshow": {
     "slide_type": "slide"
    }
   },
   "source": [
    "Remember (see the notebook related to the fomulation of the optimal control problem) that the definition of the cost function requires the definition of the weighting matrices $Q$, $R$ and $Q_f$ as well as the definition of the desired values of the steady state, namely $x_d$, $u_d$. Finally, the prediction horizon length $T$ should also be defined over which the stage cost is defined. "
   ]
  },
  {
   "cell_type": "markdown",
   "metadata": {
    "slideshow": {
     "slide_type": "slide"
    }
   },
   "source": [
    "\n",
    "Note that given the weighting matrices, the cost function depends on the following information:\n",
    "\n",
    "1. The initial state $x_0$\n",
    "2. The targeted regime defined by $(x_d,u_d)$ \n",
    "3. The bounds on the control inputs \n",
    "4. Any bounds on state components \n",
    "\n",
    "5. The decision variable $U$ which contains the sequence of future actions over the prediction horizon.\n",
    "\n",
    "Obviously the first four items are parameters of the problem (they cannot be changed when solving the problem at some instant) while the last item is the vector of decision variables to be found in order to minimize the cost function while satisfying the constraints."
   ]
  },
  {
   "cell_type": "code",
   "execution_count": 9,
   "metadata": {
    "slideshow": {
     "slide_type": "slide"
    }
   },
   "outputs": [],
   "source": [
    "# Definition of the weighting matrices to be used in the definition of the cost function \n",
    "\n",
    "qvec = [1e3, 1e2, 1e2, 1, 1, 1]\n",
    "rvec = [1e-1, 1e-1]\n",
    "qf = 1e1\n",
    "\n",
    "\n",
    "# Declaration of the initial state and the desired pair\n",
    "\n",
    "x0 = MX.sym('x0', nx)\n",
    "xd = MX.sym('xd', nx)\n",
    "ud = MX.sym('ud', nu)\n",
    "eps = MX.sym('eps', 1)\n",
    "\n",
    "# Define the saturation constraints on the control \n",
    "umin = [-1, -2]\n",
    "umax = [2, 3]\n",
    "\n",
    "# Define the bound on the derivative of theta\n",
    "\n",
    "dtheta_dt_max = 0.1"
   ]
  },
  {
   "cell_type": "code",
   "execution_count": 10,
   "metadata": {
    "slideshow": {
     "slide_type": "slide"
    }
   },
   "outputs": [],
   "source": [
    "# Declaration of the sequence of control over the prediction horizon \n",
    "# the control applied on [k,k+1] will be U[k*nu:(k+1)*nu]\n",
    "\n",
    "U = MX.sym('U', N * nu)\n",
    "Umin = np.array([umin] * N).flatten()\n",
    "Umax = np.array([umax] * N).flatten()\n",
    "\n",
    "# the cost function and state initialization\n",
    "J = 0 \n",
    "xk = x0\n",
    "# Prepare the state trajectory\n",
    "X = x0\n",
    "# The list of constraints and its lower and upper bound\n",
    "\n",
    "g, lbg, ubg = [], [], []\n"
   ]
  },
  {
   "cell_type": "code",
   "execution_count": 11,
   "metadata": {
    "slideshow": {
     "slide_type": "slide"
    }
   },
   "outputs": [],
   "source": [
    "# simulate SYMBOLICALLY over the prediction horizon\n",
    "for k in range(N-1):\n",
    "    \n",
    "    uk = U[k*nu: (k+1)*nu]\n",
    "    xk = F(xk, uk, eps)\n",
    "    X = vertcat(X, xk)\n",
    "    ex = xk-xd\n",
    "    eu = uk-ud\n",
    "    \n",
    "    # add ex.T (Q * ex) to J \n",
    "    for j in range(nx):\n",
    "        J += qvec[j] * ex[j] * ex[j]\n",
    "    \n",
    "    # add eu.T (R * eu) to J \n",
    "    for j in range(nu):\n",
    "        J += rvec[j] * eu[j] * eu[j]\n",
    "        \n",
    "    # add the constraint on the derivative of theta \n",
    "    \n",
    "    g += [xk[5]]\n",
    "    lbg += [-dtheta_dt_max]\n",
    "    ubg += [+dtheta_dt_max]\n",
    "    \n",
    "# add the terminal penalty on the state \n",
    "uk = U[(N-1)*nu:]\n",
    "xk = F(xk, uk, eps)\n",
    "X  = vertcat(X, xk)\n",
    "ex = xk-xd\n",
    "eu = uk-ud\n",
    "\n",
    "# add ex.T (Qf * ex) to J \n",
    "for j in range(nx):\n",
    "    \n",
    "    J += qf * qvec[j] * ex[j] * ex[j]\n",
    "    \n",
    "# This is a by-product function that will enable the simulation of the resulting solution\n",
    "\n",
    "simu = Function('simu', [x0, U, eps], [X])"
   ]
  },
  {
   "cell_type": "markdown",
   "metadata": {
    "slideshow": {
     "slide_type": "slide"
    }
   },
   "source": [
    "Based on the above definitions, it is now possible to define the optimization problem\n",
    "in the Casadi language since we have define the following elements:\n",
    "\n",
    "1. The value of the cost function (named 'J' in the casadi problem's dictionary)\n",
    "2. How this values depends on the decision variable (named 'x' in the casadi ....)\n",
    "3. How this value depends also on the parameter of the problem (names 'p' in the casadi \n",
    "language\n",
    "4. The expression to be constrained ('g' in the casadi langage)\n",
    "\n",
    "This enables to declare the problem to be solved as well as the solver to be used."
   ]
  },
  {
   "cell_type": "markdown",
   "metadata": {
    "slideshow": {
     "slide_type": "slide"
    }
   },
   "source": [
    "#### Declaring the optimization problem"
   ]
  },
  {
   "cell_type": "markdown",
   "metadata": {
    "slideshow": {
     "slide_type": "-"
    }
   },
   "source": [
    "An optimization problem in Casadi is a python dictionary. The following keys of this dictionary are used hereafter to define the optimization problem:\n",
    "\n",
    "- 'f': The value of this key defines the cost function to be minimized\n",
    "- 'x': The value of this key defines the decision variable (degrees of freedom)\n",
    "- 'g': The value of this key defines the list of expression on which there are constraints to be respected\n",
    "- 'p': The value of this key defines the other parameters that participate in the definition of the cost function other than the degree of freedom. "
   ]
  },
  {
   "cell_type": "code",
   "execution_count": 12,
   "metadata": {
    "slideshow": {
     "slide_type": "-"
    }
   },
   "outputs": [],
   "source": [
    "# Declaring the Single-Shooting problem \n",
    "\n",
    "prob_SS = {'f':J, 'x':U, 'g':vertcat(*g), 'p':vertcat(x0, xd, ud, eps)}"
   ]
  },
  {
   "cell_type": "markdown",
   "metadata": {
    "slideshow": {
     "slide_type": "slide"
    }
   },
   "source": [
    "Note that some parameters that participate in the definition of the cost function are not included in 'p' such as the weighting matrices $Q$, $R$ and $Q_f$ for instance. This is because they are not intended to be changed during the closed-loop operation (see later). \n",
    "\n",
    "On the contrary, the initial state $x_0$ will change as it will be updated to the current state of the system. Similarly, it is possible to imagine that the desired pair $(x_d, u_d)$ can change during the life time of the system. "
   ]
  },
  {
   "cell_type": "markdown",
   "metadata": {
    "slideshow": {
     "slide_type": "slide"
    }
   },
   "source": [
    "The difference between the parameter that are declared in the 'p' field of the dictionary and the others is that one does not need to redefined the problem when the value of 'p' changes since the structure of dependency is not changed. On the contrary, if one change $Q$, $R$ or $Q_f$, then the problem should be **built** from scratch using the new value of these parameters. \n",
    "\n",
    "Note also that only variables that have been formally declared as symbolic:\n",
    "\n",
    "x0 = MX.sym('x0', nx)\n",
    "xd = MX.sym('xd', nx)\n",
    "ud = MX.sym('ud', nu)\n",
    "\n",
    "can be included in the dictionary values field. "
   ]
  },
  {
   "cell_type": "markdown",
   "metadata": {
    "slideshow": {
     "slide_type": "slide"
    }
   },
   "source": [
    "#### Declaring the solver"
   ]
  },
  {
   "cell_type": "markdown",
   "metadata": {
    "slideshow": {
     "slide_type": "-"
    }
   },
   "source": [
    "The solver's declaration needs the following elements to be provided:\n",
    "\n",
    "- The optimization algorithm (here ipopt interior point solver is chosen)\n",
    "- The optimization problem to be solved (the one defined in the previous cell)\n",
    "- Some options if necessary in a dictionary form (below some options are defined for the ipopt solver)\n",
    "\n",
    "Note that the maximum number of iterations of the ipopt solver is here limited to the value of **max_iter** field. "
   ]
  },
  {
   "cell_type": "code",
   "execution_count": 13,
   "metadata": {
    "slideshow": {
     "slide_type": "-"
    }
   },
   "outputs": [],
   "source": [
    "# declaring the solver \n",
    "\n",
    "solver_SS = nlpsol('solver', 'ipopt', prob_SS, \n",
    "                   {'ipopt':{'max_iter':2000}})"
   ]
  },
  {
   "cell_type": "markdown",
   "metadata": {
    "slideshow": {
     "slide_type": "skip"
    }
   },
   "source": [
    "[back to toc](#toc)"
   ]
  },
  {
   "cell_type": "markdown",
   "metadata": {
    "slideshow": {
     "slide_type": "slide"
    }
   },
   "source": [
    "### Solving the single-shooting open-loop optimal control problem<a class=\"anchor\" id=\"solving-PVTOL\"></a>"
   ]
  },
  {
   "cell_type": "code",
   "execution_count": 14,
   "metadata": {
    "scrolled": true,
    "slideshow": {
     "slide_type": "-"
    }
   },
   "outputs": [
    {
     "name": "stdout",
     "output_type": "stream",
     "text": [
      "\n",
      "******************************************************************************\n",
      "This program contains Ipopt, a library for large-scale nonlinear optimization.\n",
      " Ipopt is released as open source code under the Eclipse Public License (EPL).\n",
      "         For more information visit http://projects.coin-or.org/Ipopt\n",
      "******************************************************************************\n",
      "\n",
      "This is Ipopt version 3.12.3, running with linear solver mumps.\n",
      "NOTE: Other linear solvers might be more efficient (see Ipopt documentation).\n",
      "\n",
      "Number of nonzeros in equality constraint Jacobian...:        0\n",
      "Number of nonzeros in inequality constraint Jacobian.:       45\n",
      "Number of nonzeros in Lagrangian Hessian.............:      210\n",
      "\n",
      "Total number of variables............................:       20\n",
      "                     variables with only lower bounds:        0\n",
      "                variables with lower and upper bounds:       20\n",
      "                     variables with only upper bounds:        0\n",
      "Total number of equality constraints.................:        0\n",
      "Total number of inequality constraints...............:        9\n",
      "        inequality constraints with only lower bounds:        0\n",
      "   inequality constraints with lower and upper bounds:        9\n",
      "        inequality constraints with only upper bounds:        0\n",
      "\n",
      "iter    objective    inf_pr   inf_du lg(mu)  ||d||  lg(rg) alpha_du alpha_pr  ls\n",
      "   0  5.2250000e+01 0.00e+00 6.43e+01  -1.0 0.00e+00    -  0.00e+00 0.00e+00   0\n",
      "   1  2.2250572e+01 0.00e+00 1.17e+01  -1.0 1.49e-01   2.0 9.74e-01 1.00e+00f  1\n",
      "   2  1.7782711e+01 0.00e+00 3.33e+00  -1.0 9.85e-02   1.5 1.00e+00 1.00e+00f  1\n",
      "   3  1.5954829e+01 0.00e+00 3.53e+00  -1.0 6.65e+00    -  9.98e-02 8.64e-02f  1\n",
      "   4  1.5018559e+01 0.00e+00 4.04e+00  -1.0 5.44e-01    -  1.00e+00 7.88e-01f  1\n",
      "   5  1.4965600e+01 0.00e+00 6.21e-02  -1.0 1.62e-01    -  1.00e+00 1.00e+00f  1\n",
      "   6  1.4494563e+01 0.00e+00 3.66e-01  -2.5 1.79e-01    -  8.36e-01 1.00e+00f  1\n",
      "   7  1.4297877e+01 0.00e+00 1.08e-01  -2.5 2.23e-01    -  9.48e-01 1.00e+00f  1\n",
      "   8  1.4254815e+01 0.00e+00 2.71e-02  -2.5 1.07e-01    -  1.00e+00 1.00e+00f  1\n",
      "   9  1.4224722e+01 0.00e+00 1.23e-02  -3.8 8.14e-02    -  9.93e-01 1.00e+00f  1\n",
      "iter    objective    inf_pr   inf_du lg(mu)  ||d||  lg(rg) alpha_du alpha_pr  ls\n",
      "  10  1.4220809e+01 0.00e+00 9.95e-04  -3.8 2.61e-02    -  1.00e+00 1.00e+00f  1\n",
      "  11  1.4219160e+01 0.00e+00 4.51e-05  -5.7 1.07e-02    -  1.00e+00 1.00e+00f  1\n",
      "  12  1.4219150e+01 0.00e+00 4.52e-06  -5.7 2.07e-03    -  1.00e+00 1.00e+00f  1\n",
      "  13  1.4219132e+01 0.00e+00 1.35e-08  -8.6 1.61e-04    -  1.00e+00 1.00e+00f  1\n",
      "  14  1.4219132e+01 0.00e+00 2.15e-13  -9.0 5.35e-07    -  1.00e+00 1.00e+00h  1\n",
      "\n",
      "Number of Iterations....: 14\n",
      "\n",
      "                                   (scaled)                 (unscaled)\n",
      "Objective...............:   5.6576296143199025e+00    1.4219131922016404e+01\n",
      "Dual infeasibility......:   2.1455443266454555e-13    5.3923250380138024e-13\n",
      "Constraint violation....:   0.0000000000000000e+00    0.0000000000000000e+00\n",
      "Complementarity.........:   9.0916214161040910e-10    2.2849669051047211e-09\n",
      "Overall NLP error.......:   9.0916214161040910e-10    2.2849669051047211e-09\n",
      "\n",
      "\n",
      "Number of objective function evaluations             = 15\n",
      "Number of objective gradient evaluations             = 15\n",
      "Number of equality constraint evaluations            = 0\n",
      "Number of inequality constraint evaluations          = 15\n",
      "Number of equality constraint Jacobian evaluations   = 0\n",
      "Number of inequality constraint Jacobian evaluations = 15\n",
      "Number of Lagrangian Hessian evaluations             = 14\n",
      "Total CPU secs in IPOPT (w/o function evaluations)   =      0.010\n",
      "Total CPU secs in NLP function evaluations           =      0.052\n",
      "\n",
      "EXIT: Optimal Solution Found.\n",
      "      solver  :   t_proc      (avg)   t_wall      (avg)    n_eval\n",
      "       nlp_f  | 860.00us ( 57.33us) 806.78us ( 53.79us)        15\n",
      "       nlp_g  | 664.00us ( 44.27us) 666.05us ( 44.40us)        15\n",
      "    nlp_grad  | 255.00us (255.00us) 254.93us (254.93us)         1\n",
      "  nlp_grad_f  |   2.39ms (149.19us)   2.40ms (149.97us)        16\n",
      "  nlp_hess_l  |  42.70ms (  3.05ms)  42.87ms (  3.06ms)        14\n",
      "   nlp_jac_g  |   5.87ms (366.88us)   5.90ms (368.74us)        16\n",
      "       total  |  66.79ms ( 66.79ms)  65.66ms ( 65.66ms)         1\n"
     ]
    }
   ],
   "source": [
    "# Define the initial guess U0 and the parameters (x0, xd, ud)\n",
    "\n",
    "U0 = np.array([[1, 0] for _ in range(N)]).flatten()\n",
    "x0_ = np.zeros(nx)\n",
    "xd_ = np.array([0.05, 0.05, 0, 0, 0, 0])\n",
    "ud_ = np.array([1,0])\n",
    "eps_ = 0.04\n",
    "\n",
    "# call the solver \n",
    "\n",
    "t1 = time.time()\n",
    "sol_SS = solver_SS(x0=U0, lbx=Umin, ubx=Umax, lbg=lbg, ubg=ubg, p=vertcat(x0_,xd_,ud_,eps_))\n",
    "cpu = time.time()-t1"
   ]
  },
  {
   "cell_type": "markdown",
   "metadata": {
    "slideshow": {
     "slide_type": "slide"
    }
   },
   "source": [
    "#### CPU time - Single-Shooting"
   ]
  },
  {
   "cell_type": "code",
   "execution_count": 15,
   "metadata": {
    "slideshow": {
     "slide_type": "-"
    }
   },
   "outputs": [
    {
     "name": "stdout",
     "output_type": "stream",
     "text": [
      "cpu time for casadi single-shooting = 0.06631994247436523 using N=10 and tau=0.2\n",
      "Final cost value = 14.2191\n"
     ]
    }
   ],
   "source": [
    "print(f\"cpu time for casadi single-shooting = {cpu} using N={N} and tau={T/N}\")\n",
    "print(f\"Final cost value = {sol_SS['f']}\")"
   ]
  },
  {
   "cell_type": "markdown",
   "metadata": {
    "slideshow": {
     "slide_type": "slide"
    }
   },
   "source": [
    "### Extract the results and plot the solution"
   ]
  },
  {
   "cell_type": "code",
   "execution_count": 16,
   "metadata": {
    "slideshow": {
     "slide_type": "slide"
    }
   },
   "outputs": [
    {
     "data": {
      "image/png": "[encoded data removed]",
      "text/plain": [
       "<Figure size 1440x360 with 2 Axes>"
      ]
     },
     "metadata": {
      "needs_background": "light"
     },
     "output_type": "display_data"
    }
   ],
   "source": [
    "# Get the optimal control sequence \n",
    "U_opt = sol_SS['x']\n",
    "\n",
    "# Simulate the the system under this optimal sequence\n",
    "X = simu(x0_, sol_SS['x'], eps_)\n",
    "X = X.full().reshape(-1, nx)\n",
    "t = np.array([i * dt for i in range(X.shape[0])])\n",
    "\n",
    "\n",
    "U_opt = U_opt.full().reshape(-1,2)\n",
    "fig, ax = plt.subplots(1,2, figsize=(20, 5))\n",
    "[ax[0].plot(t, X[:,i], '-o', label='x'+str(i+1)) for i in [0,1,2,5]];\n",
    "[ax[0].plot(t, np.ones(len(t))*xd_[i], '-.') for i in [0,1,2,5]];\n",
    "ax[0].legend()\n",
    "ax[0].grid(True)\n",
    "ax[0].set_title('Evolution of the states');\n",
    "#----\n",
    "U_opt_ = np.array(U_opt)\n",
    "U_opt_ = np.array([U_opt[0]]+list(U_opt_))\n",
    "[ax[1].step(t, U_opt_[:,i], label='u'+str(i+1)) for i in range(2)];\n",
    "ax[1].grid(True)\n",
    "ax[1].set_title('Optimal control sequence');\n",
    "ax[1].set_xlim([t.min(), t.max()]);\n",
    "ax[1].legend();"
   ]
  },
  {
   "cell_type": "markdown",
   "metadata": {
    "slideshow": {
     "slide_type": "slide"
    }
   },
   "source": [
    "## The multiple-shooting version<a class=\"anchor\" id=\"MS-PVTOL\"></a> "
   ]
  },
  {
   "cell_type": "markdown",
   "metadata": {
    "slideshow": {
     "slide_type": "slide"
    }
   },
   "source": [
    "Recall that the only difference between the Single-Shooting **(SS)** and the Mutiple-Shooting **(MS)** formulaton lies in the **definition of the decision variable**. More precisely:\n",
    "\n",
    "- In the SS formulation, the decision variable is the sequence of control $U\\in \\mathbb R^{N\\cdot n_u}$ the sequence $X\\in \\mathbb R^{N\\cdot n_x}$ of the future states over the prediction horizon is an intermediate variable that results from the application of the sequence of control $U$ starting from the initial state $x_0$\n",
    "\n",
    "- In the MS formulation, the decision variable is the sequence of both control and state, namely $W=(X,U)$, the link between the input and the state is expressed as equality constraint $x(k+1)=F(x(k), u(k))$ or an inequality constraints of the form \n",
    "\n",
    "$$0\\le x(k+1)-F(x(k), u(k))\\le 0$$\n"
   ]
  },
  {
   "cell_type": "markdown",
   "metadata": {
    "slideshow": {
     "slide_type": "slide"
    }
   },
   "source": [
    "\n",
    "So finally the difference is not so important and the following cell show the construction of the MS formulation by changing the similar cell above which is dedicated to the construction of the SS version. "
   ]
  },
  {
   "cell_type": "markdown",
   "metadata": {
    "slideshow": {
     "slide_type": "slide"
    }
   },
   "source": [
    "#### Formulating the Multiple-Shooting optimization problem"
   ]
  },
  {
   "cell_type": "code",
   "execution_count": 28,
   "metadata": {
    "slideshow": {
     "slide_type": "slide"
    }
   },
   "outputs": [],
   "source": [
    "# Definition of the weighting matrices to be used in the definition of the cost function \n",
    "\n",
    "qvec = [1e3, 1e2, 1e2, 1, 1, 1]\n",
    "rvec = [1e-1, 1e-1]\n",
    "qf = 1e1\n",
    "\n",
    "\n",
    "# Declaration of the initial state and the desired pair\n",
    "\n",
    "x0 = MX.sym('x0', nx)\n",
    "xd = MX.sym('xd', nx)\n",
    "ud = MX.sym('ud', nu)\n",
    "eps = MX.sym('eps', 1)\n",
    "\n",
    "# Define the saturation constraints on the control \n",
    "umin = [-1, -2]\n",
    "umax = [2, 3]\n",
    "\n",
    "# Define the bound on the derivative of theta\n",
    "\n",
    "dtheta_dt_max = 0.1\n",
    "\n",
    "# Declaration of the sequence of control over the prediction horizon \n",
    "# the control applied on [k,k+1] will be U[k*nu:(k+1)*nu]\n",
    "\n",
    "U = MX.sym('U', N * nu)\n",
    "Umin = np.array([umin] * N).flatten()\n",
    "Umax = np.array([umax] * N).flatten()\n",
    "\n",
    "# Declaration of the sequence of states over the prediction horizon \n",
    "\n",
    "X = MX.sym('X', N * nx)"
   ]
  },
  {
   "cell_type": "code",
   "execution_count": 29,
   "metadata": {
    "slideshow": {
     "slide_type": "slide"
    }
   },
   "outputs": [],
   "source": [
    "# the cost function and state initialization\n",
    "J = 0 \n",
    "xk = x0\n",
    "\n",
    "# The list of constraints and its lower and upper bound\n",
    "\n",
    "g, lbg, ubg = [], [], []\n",
    "\n",
    "# simulate SYMBOLICALLY over the prediction horizon\n",
    "for k in range(N-1):\n",
    "    \n",
    "    uk = U[k*nu: (k+1)*nu]\n",
    "    xk = F(xk, uk, eps)\n",
    "    \n",
    "    # Equality constraint of the dynamics at instant k \n",
    "\n",
    "    g += [xk-X[k * nx: (k+1) * nx]]\n",
    "    lbg += [0.0] * nx\n",
    "    ubg += [0.0] * nx\n",
    "    \n",
    "    ex = xk-xd\n",
    "    eu = uk-ud\n",
    "    \n",
    "    # add ex.T (Q * ex) to J \n",
    "    for j in range(nx):\n",
    "        J += qvec[j] * ex[j] * ex[j]\n",
    "    \n",
    "    # add eu.T (R * eu) to J \n",
    "    for j in range(nu):\n",
    "        J += rvec[j] * eu[j] * eu[j]\n",
    "        \n",
    "    # add the constraint on the derivative of theta \n",
    "    \n",
    "    g += [xk[5]]\n",
    "    lbg += [-dtheta_dt_max]\n",
    "    ubg += [+dtheta_dt_max]"
   ]
  },
  {
   "cell_type": "code",
   "execution_count": 30,
   "metadata": {
    "slideshow": {
     "slide_type": "slide"
    }
   },
   "outputs": [],
   "source": [
    "# add the terminal penalty on the state \n",
    "uk = U[(N-1)*nu:]\n",
    "xk = F(xk, uk, eps)\n",
    "# Equality constraint of the dynamics at instant k --\n",
    "\n",
    "k = N-1\n",
    "g += [xk-X[k * nx: (k+1) * nx]]\n",
    "lbg += [0.0] * nx\n",
    "ubg += [0.0] * nx\n",
    "\n",
    "ex = xk-xd\n",
    "eu = uk-ud\n",
    "\n",
    "# add ex.T (Qf * ex) to J \n",
    "for j in range(nx):\n",
    "    \n",
    "    J += qf * qvec[j] * ex[j] * ex[j]\n",
    "    \n",
    "# Declare the decision variable\n",
    "\n",
    "w = vertcat(U, X)\n",
    "wmin = list(Umin.flatten())+[-1e3 for _ in range(N * nx)]\n",
    "wmax = list(Umax.flatten())+[+1e3 for _ in range(N * nx)]"
   ]
  },
  {
   "cell_type": "markdown",
   "metadata": {
    "slideshow": {
     "slide_type": "slide"
    }
   },
   "source": [
    "#### Declaring the Multiple-Shooting optimization problem"
   ]
  },
  {
   "cell_type": "code",
   "execution_count": 31,
   "metadata": {
    "slideshow": {
     "slide_type": "-"
    }
   },
   "outputs": [],
   "source": [
    "# Declaring the Multiple-shooting problem \n",
    "\n",
    "prob_MS = {'f':J, 'x':w, 'g':vertcat(*g), 'p':vertcat(x0, xd, ud, eps)}"
   ]
  },
  {
   "cell_type": "markdown",
   "metadata": {
    "slideshow": {
     "slide_type": "-"
    }
   },
   "source": [
    "#### Declaring the Multiple-Shooting solver"
   ]
  },
  {
   "cell_type": "code",
   "execution_count": 32,
   "metadata": {
    "slideshow": {
     "slide_type": "-"
    }
   },
   "outputs": [],
   "source": [
    "# declaring the Multiple-shooting solver \n",
    "\n",
    "solver_MS = nlpsol('solver', 'ipopt', prob_MS, {'ipopt':{'max_iter':2000}})"
   ]
  },
  {
   "cell_type": "markdown",
   "metadata": {
    "slideshow": {
     "slide_type": "slide"
    }
   },
   "source": [
    "### Solving the multiple-shooting open-loop optimal control problem<a class=\"anchor\" id=\"solvingMS-PVTOL\"></a>"
   ]
  },
  {
   "cell_type": "code",
   "execution_count": 33,
   "metadata": {
    "scrolled": true,
    "slideshow": {
     "slide_type": "-"
    }
   },
   "outputs": [
    {
     "name": "stdout",
     "output_type": "stream",
     "text": [
      "This is Ipopt version 3.12.3, running with linear solver mumps.\n",
      "NOTE: Other linear solvers might be more efficient (see Ipopt documentation).\n",
      "\n",
      "Number of nonzeros in equality constraint Jacobian...:      610\n",
      "Number of nonzeros in inequality constraint Jacobian.:       45\n",
      "Number of nonzeros in Lagrangian Hessian.............:      210\n",
      "\n",
      "Total number of variables............................:       80\n",
      "                     variables with only lower bounds:        0\n",
      "                variables with lower and upper bounds:       80\n",
      "                     variables with only upper bounds:        0\n",
      "Total number of equality constraints.................:       60\n",
      "Total number of inequality constraints...............:        9\n",
      "        inequality constraints with only lower bounds:        0\n",
      "   inequality constraints with lower and upper bounds:        9\n",
      "        inequality constraints with only upper bounds:        0\n",
      "\n",
      "iter    objective    inf_pr   inf_du lg(mu)  ||d||  lg(rg) alpha_du alpha_pr  ls\n",
      "   0  4.9748700e+03 2.00e+00 3.19e+01  -1.0 0.00e+00    -  0.00e+00 0.00e+00   0\n",
      "   1  3.5518198e+03 1.70e+00 2.71e+01  -1.0 2.76e+00    -  1.51e-01 1.51e-01f  1\n",
      "   2  1.0980712e+02 2.44e-01 5.96e+00  -1.0 1.14e+00    -  4.71e-01 8.57e-01f  1\n",
      "   3  1.7403295e+01 6.07e-03 1.19e+00  -1.0 2.33e-01    -  9.90e-01 1.00e+00f  1\n",
      "   4  1.6916660e+01 1.17e-03 7.36e-02  -1.0 4.66e-01    -  1.00e+00 1.00e+00h  1\n",
      "   5  1.5820689e+01 2.38e-04 1.41e-01  -2.5 1.76e-01    -  8.96e-01 1.00e+00f  1\n",
      "   6  1.4668911e+01 9.59e-04 1.81e-01  -2.5 4.13e-01    -  1.00e+00 1.00e+00f  1\n",
      "   7  1.4445746e+01 1.07e-04 3.83e-03  -2.5 1.44e-01    -  1.00e+00 1.00e+00h  1\n",
      "   8  1.4276262e+01 1.02e-04 1.72e-02  -3.8 1.63e-01    -  9.08e-01 1.00e+00h  1\n",
      "   9  1.4237730e+01 1.87e-05 2.95e-03  -3.8 1.08e-01    -  1.00e+00 1.00e+00h  1\n",
      "iter    objective    inf_pr   inf_du lg(mu)  ||d||  lg(rg) alpha_du alpha_pr  ls\n",
      "  10  1.4231540e+01 1.36e-06 3.12e-04  -3.8 3.16e-02    -  1.00e+00 1.00e+00h  1\n",
      "  11  1.4219942e+01 1.88e-06 3.47e-04  -5.7 3.95e-02    -  9.85e-01 1.00e+00h  1\n",
      "  12  1.4219272e+01 7.81e-08 1.46e-05  -5.7 1.06e-02    -  1.00e+00 1.00e+00h  1\n",
      "  13  1.4219132e+01 3.25e-09 5.81e-07  -8.6 2.35e-03    -  9.99e-01 9.99e-01h  1\n",
      "  14  1.4219132e+01 6.50e-12 1.22e-09  -8.6 9.32e-05    -  1.00e+00 1.00e+00f  1\n",
      "\n",
      "Number of Iterations....: 14\n",
      "\n",
      "                                   (scaled)                 (unscaled)\n",
      "Objective...............:   7.5345125593826590e-01    1.4219132102066958e+01\n",
      "Dual infeasibility......:   1.2190127820099241e-09    2.3005209222091295e-08\n",
      "Constraint violation....:   6.5026109496990614e-12    6.5026109496990614e-12\n",
      "Complementarity.........:   2.7905288051280503e-09    5.2662859610376578e-08\n",
      "Overall NLP error.......:   2.7905288051280503e-09    5.2662859610376578e-08\n",
      "\n",
      "\n",
      "Number of objective function evaluations             = 15\n",
      "Number of objective gradient evaluations             = 15\n",
      "Number of equality constraint evaluations            = 15\n",
      "Number of inequality constraint evaluations          = 15\n",
      "Number of equality constraint Jacobian evaluations   = 15\n",
      "Number of inequality constraint Jacobian evaluations = 15\n",
      "Number of Lagrangian Hessian evaluations             = 14\n",
      "Total CPU secs in IPOPT (w/o function evaluations)   =      0.013\n",
      "Total CPU secs in NLP function evaluations           =      0.059\n",
      "\n",
      "EXIT: Optimal Solution Found.\n",
      "      solver  :   t_proc      (avg)   t_wall      (avg)    n_eval\n",
      "       nlp_f  |   1.06ms ( 70.73us) 834.77us ( 55.65us)        15\n",
      "       nlp_g  | 754.00us ( 50.27us) 738.47us ( 49.23us)        15\n",
      "    nlp_grad  | 277.00us (277.00us) 288.36us (288.36us)         1\n",
      "  nlp_grad_f  |   2.67ms (166.75us)   2.74ms (170.99us)        16\n",
      "  nlp_hess_l  |  45.06ms (  3.22ms)  45.09ms (  3.22ms)        14\n",
      "   nlp_jac_g  |  10.40ms (650.00us)  10.42ms (651.56us)        16\n",
      "       total  |  78.31ms ( 78.31ms)  77.34ms ( 77.34ms)         1\n"
     ]
    }
   ],
   "source": [
    "# Define the initial guess w0 and the parameters (x0, xd, ud)\n",
    "\n",
    "w0 = [0.0] * (N * (nu+nx))\n",
    "x0_ = np.zeros(nx)\n",
    "xd_ = np.array([0.05, 0.05, 0, 0, 0, 0])\n",
    "ud_ = np.array([1,0])\n",
    "eps_ = 0.04\n",
    "\n",
    "# call the solver \n",
    "\n",
    "t1 = time.time()\n",
    "sol_MS = solver_MS(x0=w0, lbx=wmin, ubx=wmax, lbg=lbg, ubg=ubg, p=vertcat(x0_,xd_,ud_,eps_))\n",
    "cpu = time.time()-t1"
   ]
  },
  {
   "cell_type": "markdown",
   "metadata": {
    "slideshow": {
     "slide_type": "slide"
    }
   },
   "source": [
    "#### CPU time"
   ]
  },
  {
   "cell_type": "code",
   "execution_count": 34,
   "metadata": {
    "slideshow": {
     "slide_type": "-"
    }
   },
   "outputs": [
    {
     "name": "stdout",
     "output_type": "stream",
     "text": [
      "cpu time for casadi = 0.07811570167541504 using N=10 and tau=0.2\n",
      "Final cost value = 14.2191\n"
     ]
    }
   ],
   "source": [
    "print(f\"cpu time for casadi = {cpu} using N={N} and tau={T/N}\")\n",
    "print(f\"Final cost value = {sol_MS['f']}\")"
   ]
  },
  {
   "cell_type": "markdown",
   "metadata": {
    "slideshow": {
     "slide_type": "slide"
    }
   },
   "source": [
    "### Extrat the results and plot the solution"
   ]
  },
  {
   "cell_type": "code",
   "execution_count": 35,
   "metadata": {
    "slideshow": {
     "slide_type": "-"
    }
   },
   "outputs": [
    {
     "data": {
      "image/png": "[encoded data removed]",
      "text/plain": [
       "<Figure size 1440x360 with 2 Axes>"
      ]
     },
     "metadata": {
      "needs_background": "light"
     },
     "output_type": "display_data"
    }
   ],
   "source": [
    "# Get the optimal control sequence \n",
    "U_opt = sol_MS['x'][0:N * nu]\n",
    "\n",
    "# Simulate the the system under this optimal sequence\n",
    "X = simu(x0_, U_opt, eps_)\n",
    "X = X.full().reshape(-1, nx)\n",
    "t = np.array([i * dt for i in range(X.shape[0])])\n",
    "\n",
    "\n",
    "U_opt = U_opt.full().reshape(-1,2)\n",
    "fig, ax = plt.subplots(1,2, figsize=(20, 5))\n",
    "[ax[0].plot(t, X[:,i], '-o', label='x'+str(i+1)) for i in [0,1,2,5]];\n",
    "[ax[0].plot(t, np.ones(len(t))*xd_[i], '-.') for i in [0,1,2,5]];\n",
    "ax[0].legend()\n",
    "ax[0].grid(True)\n",
    "ax[0].set_title('Evolution of the states');\n",
    "#----\n",
    "U_opt_ = np.array(U_opt)\n",
    "U_opt_ = np.array([U_opt[0]]+list(U_opt_))\n",
    "[ax[1].step(t, U_opt_[:,i], label='u'+str(i+1)) for i in range(2)];\n",
    "ax[1].grid(True)\n",
    "ax[1].set_title('Optimal control sequence');\n",
    "ax[1].set_xlim([t.min(), t.max()]);\n",
    "ax[1].legend();"
   ]
  },
  {
   "cell_type": "markdown",
   "metadata": {
    "slideshow": {
     "slide_type": "slide"
    }
   },
   "source": [
    "### Discussion<a class=\"anchor\" id=\"discussion\"></a>"
   ]
  },
  {
   "cell_type": "markdown",
   "metadata": {
    "slideshow": {
     "slide_type": "-"
    }
   },
   "source": [
    "Note that in the specific example under consideration, the single shooting method leads to better results (The value of the optimal cost is higher than the one with single-shooting for the same definition of the problem's parameters). This is not always the case, especially for high dimensional problems (longer $N$, more states, more controls). It is generally advised to try both in order make the rational choice. \n",
    "\n",
    "> **It is interesting to notice that in both case, the solver declares that an optimal solution is reached which should be interpreted as: a local optimal solution is reached that satisfies the necessary condition for local optimality. This simply suggests that the optimization problem is not convex and accepts multiple local minima**"
   ]
  },
  {
   "cell_type": "markdown",
   "metadata": {
    "slideshow": {
     "slide_type": "slide"
    }
   },
   "source": [
    "NOTA: Please, observe nevetheless that the computation time for the multiple-shooting version is slightly lower and anyway comparable to the single-shooting case despite the fact that the decision variable is or much higher dimension. \n",
    "\n",
    "This experiment suggests that in the case where the problem is strictly convex, multiple-shooting should be prefered to the single-shooting. In the non convex case, it might lead more easily to local minima so experiments have to be conducted off-line to choose the best option."
   ]
  },
  {
   "cell_type": "markdown",
   "metadata": {
    "slideshow": {
     "slide_type": "slide"
    }
   },
   "source": [
    "## Checkpoint-4<a class=\"anchor\" id=\"checkpoint-4\"></a>"
   ]
  },
  {
   "cell_type": "markdown",
   "metadata": {
    "slideshow": {
     "slide_type": "-"
    }
   },
   "source": [
    "Try 100 different initial guess for the single and the multiple shooting version and plot for each, the histograms of the cpu time and the final optimal cost function delivered by the solvers. "
   ]
  },
  {
   "cell_type": "code",
   "execution_count": 25,
   "metadata": {
    "slideshow": {
     "slide_type": "skip"
    }
   },
   "outputs": [],
   "source": [
    "#%load_ext watermark\n",
    "#print(\"----\")\n",
    "#%watermark -v -m -p IPython,ipywidgets,casadi,scipy,matplotlib,casadi\n",
    "#print(\"----\")\n",
    "#%watermark -u -n -t -z"
   ]
  },
  {
   "cell_type": "code",
   "execution_count": null,
   "metadata": {},
   "outputs": [],
   "source": []
  }
 ],
 "metadata": {
  "celltoolbar": "Diaporama",
  "kernelspec": {
   "display_name": "Python 3",
   "language": "python",
   "name": "python3"
  },
  "language_info": {
   "codemirror_mode": {
    "name": "ipython",
    "version": 3
   },
   "file_extension": ".py",
   "mimetype": "text/x-python",
   "name": "python",
   "nbconvert_exporter": "python",
   "pygments_lexer": "ipython3",
   "version": "3.8.5"
  }
 },
 "nbformat": 4,
 "nbformat_minor": 4
}
